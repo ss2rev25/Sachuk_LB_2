{
 "cells": [
  {
   "metadata": {},
   "cell_type": "markdown",
   "source": "Завдання №1",
   "id": "c5e465bde82d9f99"
  },
  {
   "cell_type": "code",
   "id": "initial_id",
   "metadata": {
    "collapsed": true,
    "ExecuteTime": {
     "end_time": "2024-08-18T16:19:26.760152Z",
     "start_time": "2024-08-18T16:19:26.047125Z"
    }
   },
   "source": [
    "import pandas as pd\n",
    "import numpy as np\n",
    "import matplotlib.pyplot as plt\n",
    "import seaborn as sns\n",
    "\n",
    "url = \"https://en.wikipedia.org/wiki/List_of_countries_by_GDP_(nominal)\"\n",
    "df = pd.read_html(url)\n",
    "vvp_df = df[2]\n",
    "vvp_df"
   ],
   "outputs": [
    {
     "data": {
      "text/plain": [
       "    Country/Territory IMF[1][13]            World Bank[14]             \\\n",
       "    Country/Territory   Forecast       Year       Estimate       Year   \n",
       "0               World  109529216       2024      105435540       2023   \n",
       "1       United States   28781083       2024       27360935       2023   \n",
       "2               China   18532633  [n 1]2024       17794782  [n 3]2023   \n",
       "3             Germany    4591100       2024        4456081       2023   \n",
       "4               Japan    4110452       2024        4212945       2023   \n",
       "..                ...        ...        ...            ...        ...   \n",
       "205          Kiribati        311       2024            279       2023   \n",
       "206             Palau        308       2024            263       2023   \n",
       "207  Marshall Islands        305       2024            284       2023   \n",
       "208             Nauru        161       2024            154       2023   \n",
       "209            Tuvalu         66       2024             62       2023   \n",
       "\n",
       "    United Nations[15]             \n",
       "              Estimate       Year  \n",
       "0            100834796       2022  \n",
       "1             25744100       2022  \n",
       "2             17963170  [n 1]2022  \n",
       "3              4076923       2022  \n",
       "4              4232173       2022  \n",
       "..                 ...        ...  \n",
       "205                223       2022  \n",
       "206                225       2022  \n",
       "207                279       2022  \n",
       "208                147       2022  \n",
       "209                 59       2022  \n",
       "\n",
       "[210 rows x 7 columns]"
      ],
      "text/html": [
       "<div>\n",
       "<style scoped>\n",
       "    .dataframe tbody tr th:only-of-type {\n",
       "        vertical-align: middle;\n",
       "    }\n",
       "\n",
       "    .dataframe tbody tr th {\n",
       "        vertical-align: top;\n",
       "    }\n",
       "\n",
       "    .dataframe thead tr th {\n",
       "        text-align: left;\n",
       "    }\n",
       "</style>\n",
       "<table border=\"1\" class=\"dataframe\">\n",
       "  <thead>\n",
       "    <tr>\n",
       "      <th></th>\n",
       "      <th>Country/Territory</th>\n",
       "      <th colspan=\"2\" halign=\"left\">IMF[1][13]</th>\n",
       "      <th colspan=\"2\" halign=\"left\">World Bank[14]</th>\n",
       "      <th colspan=\"2\" halign=\"left\">United Nations[15]</th>\n",
       "    </tr>\n",
       "    <tr>\n",
       "      <th></th>\n",
       "      <th>Country/Territory</th>\n",
       "      <th>Forecast</th>\n",
       "      <th>Year</th>\n",
       "      <th>Estimate</th>\n",
       "      <th>Year</th>\n",
       "      <th>Estimate</th>\n",
       "      <th>Year</th>\n",
       "    </tr>\n",
       "  </thead>\n",
       "  <tbody>\n",
       "    <tr>\n",
       "      <th>0</th>\n",
       "      <td>World</td>\n",
       "      <td>109529216</td>\n",
       "      <td>2024</td>\n",
       "      <td>105435540</td>\n",
       "      <td>2023</td>\n",
       "      <td>100834796</td>\n",
       "      <td>2022</td>\n",
       "    </tr>\n",
       "    <tr>\n",
       "      <th>1</th>\n",
       "      <td>United States</td>\n",
       "      <td>28781083</td>\n",
       "      <td>2024</td>\n",
       "      <td>27360935</td>\n",
       "      <td>2023</td>\n",
       "      <td>25744100</td>\n",
       "      <td>2022</td>\n",
       "    </tr>\n",
       "    <tr>\n",
       "      <th>2</th>\n",
       "      <td>China</td>\n",
       "      <td>18532633</td>\n",
       "      <td>[n 1]2024</td>\n",
       "      <td>17794782</td>\n",
       "      <td>[n 3]2023</td>\n",
       "      <td>17963170</td>\n",
       "      <td>[n 1]2022</td>\n",
       "    </tr>\n",
       "    <tr>\n",
       "      <th>3</th>\n",
       "      <td>Germany</td>\n",
       "      <td>4591100</td>\n",
       "      <td>2024</td>\n",
       "      <td>4456081</td>\n",
       "      <td>2023</td>\n",
       "      <td>4076923</td>\n",
       "      <td>2022</td>\n",
       "    </tr>\n",
       "    <tr>\n",
       "      <th>4</th>\n",
       "      <td>Japan</td>\n",
       "      <td>4110452</td>\n",
       "      <td>2024</td>\n",
       "      <td>4212945</td>\n",
       "      <td>2023</td>\n",
       "      <td>4232173</td>\n",
       "      <td>2022</td>\n",
       "    </tr>\n",
       "    <tr>\n",
       "      <th>...</th>\n",
       "      <td>...</td>\n",
       "      <td>...</td>\n",
       "      <td>...</td>\n",
       "      <td>...</td>\n",
       "      <td>...</td>\n",
       "      <td>...</td>\n",
       "      <td>...</td>\n",
       "    </tr>\n",
       "    <tr>\n",
       "      <th>205</th>\n",
       "      <td>Kiribati</td>\n",
       "      <td>311</td>\n",
       "      <td>2024</td>\n",
       "      <td>279</td>\n",
       "      <td>2023</td>\n",
       "      <td>223</td>\n",
       "      <td>2022</td>\n",
       "    </tr>\n",
       "    <tr>\n",
       "      <th>206</th>\n",
       "      <td>Palau</td>\n",
       "      <td>308</td>\n",
       "      <td>2024</td>\n",
       "      <td>263</td>\n",
       "      <td>2023</td>\n",
       "      <td>225</td>\n",
       "      <td>2022</td>\n",
       "    </tr>\n",
       "    <tr>\n",
       "      <th>207</th>\n",
       "      <td>Marshall Islands</td>\n",
       "      <td>305</td>\n",
       "      <td>2024</td>\n",
       "      <td>284</td>\n",
       "      <td>2023</td>\n",
       "      <td>279</td>\n",
       "      <td>2022</td>\n",
       "    </tr>\n",
       "    <tr>\n",
       "      <th>208</th>\n",
       "      <td>Nauru</td>\n",
       "      <td>161</td>\n",
       "      <td>2024</td>\n",
       "      <td>154</td>\n",
       "      <td>2023</td>\n",
       "      <td>147</td>\n",
       "      <td>2022</td>\n",
       "    </tr>\n",
       "    <tr>\n",
       "      <th>209</th>\n",
       "      <td>Tuvalu</td>\n",
       "      <td>66</td>\n",
       "      <td>2024</td>\n",
       "      <td>62</td>\n",
       "      <td>2023</td>\n",
       "      <td>59</td>\n",
       "      <td>2022</td>\n",
       "    </tr>\n",
       "  </tbody>\n",
       "</table>\n",
       "<p>210 rows × 7 columns</p>\n",
       "</div>"
      ]
     },
     "execution_count": 429,
     "metadata": {},
     "output_type": "execute_result"
    }
   ],
   "execution_count": 429
  },
  {
   "metadata": {},
   "cell_type": "markdown",
   "source": "1. Вивести перших 5 рядків.",
   "id": "9106e4d4fb073d11"
  },
  {
   "metadata": {
    "ExecuteTime": {
     "end_time": "2024-08-18T15:35:37.280916Z",
     "start_time": "2024-08-18T15:35:37.270759Z"
    }
   },
   "cell_type": "code",
   "source": "vvp_df.head(5)",
   "id": "8556fd3a827af237",
   "outputs": [
    {
     "data": {
      "text/plain": [
       "  Country/Territory IMF[1][13]            World Bank[14]             \\\n",
       "  Country/Territory   Forecast       Year       Estimate       Year   \n",
       "0             World  109529216       2024      105435540       2023   \n",
       "1     United States   28781083       2024       27360935       2023   \n",
       "2             China   18532633  [n 1]2024       17794782  [n 3]2023   \n",
       "3           Germany    4591100       2024        4456081       2023   \n",
       "4             Japan    4110452       2024        4212945       2023   \n",
       "\n",
       "  United Nations[15]             \n",
       "            Estimate       Year  \n",
       "0          100834796       2022  \n",
       "1           25744100       2022  \n",
       "2           17963170  [n 1]2022  \n",
       "3            4076923       2022  \n",
       "4            4232173       2022  "
      ],
      "text/html": [
       "<div>\n",
       "<style scoped>\n",
       "    .dataframe tbody tr th:only-of-type {\n",
       "        vertical-align: middle;\n",
       "    }\n",
       "\n",
       "    .dataframe tbody tr th {\n",
       "        vertical-align: top;\n",
       "    }\n",
       "\n",
       "    .dataframe thead tr th {\n",
       "        text-align: left;\n",
       "    }\n",
       "</style>\n",
       "<table border=\"1\" class=\"dataframe\">\n",
       "  <thead>\n",
       "    <tr>\n",
       "      <th></th>\n",
       "      <th>Country/Territory</th>\n",
       "      <th colspan=\"2\" halign=\"left\">IMF[1][13]</th>\n",
       "      <th colspan=\"2\" halign=\"left\">World Bank[14]</th>\n",
       "      <th colspan=\"2\" halign=\"left\">United Nations[15]</th>\n",
       "    </tr>\n",
       "    <tr>\n",
       "      <th></th>\n",
       "      <th>Country/Territory</th>\n",
       "      <th>Forecast</th>\n",
       "      <th>Year</th>\n",
       "      <th>Estimate</th>\n",
       "      <th>Year</th>\n",
       "      <th>Estimate</th>\n",
       "      <th>Year</th>\n",
       "    </tr>\n",
       "  </thead>\n",
       "  <tbody>\n",
       "    <tr>\n",
       "      <th>0</th>\n",
       "      <td>World</td>\n",
       "      <td>109529216</td>\n",
       "      <td>2024</td>\n",
       "      <td>105435540</td>\n",
       "      <td>2023</td>\n",
       "      <td>100834796</td>\n",
       "      <td>2022</td>\n",
       "    </tr>\n",
       "    <tr>\n",
       "      <th>1</th>\n",
       "      <td>United States</td>\n",
       "      <td>28781083</td>\n",
       "      <td>2024</td>\n",
       "      <td>27360935</td>\n",
       "      <td>2023</td>\n",
       "      <td>25744100</td>\n",
       "      <td>2022</td>\n",
       "    </tr>\n",
       "    <tr>\n",
       "      <th>2</th>\n",
       "      <td>China</td>\n",
       "      <td>18532633</td>\n",
       "      <td>[n 1]2024</td>\n",
       "      <td>17794782</td>\n",
       "      <td>[n 3]2023</td>\n",
       "      <td>17963170</td>\n",
       "      <td>[n 1]2022</td>\n",
       "    </tr>\n",
       "    <tr>\n",
       "      <th>3</th>\n",
       "      <td>Germany</td>\n",
       "      <td>4591100</td>\n",
       "      <td>2024</td>\n",
       "      <td>4456081</td>\n",
       "      <td>2023</td>\n",
       "      <td>4076923</td>\n",
       "      <td>2022</td>\n",
       "    </tr>\n",
       "    <tr>\n",
       "      <th>4</th>\n",
       "      <td>Japan</td>\n",
       "      <td>4110452</td>\n",
       "      <td>2024</td>\n",
       "      <td>4212945</td>\n",
       "      <td>2023</td>\n",
       "      <td>4232173</td>\n",
       "      <td>2022</td>\n",
       "    </tr>\n",
       "  </tbody>\n",
       "</table>\n",
       "</div>"
      ]
     },
     "execution_count": 382,
     "metadata": {},
     "output_type": "execute_result"
    }
   ],
   "execution_count": 382
  },
  {
   "metadata": {},
   "cell_type": "markdown",
   "source": "2. Визначити розмір датасета.",
   "id": "e50ce92d977acdbb"
  },
  {
   "metadata": {
    "ExecuteTime": {
     "end_time": "2024-08-18T15:35:37.295188Z",
     "start_time": "2024-08-18T15:35:37.282073Z"
    }
   },
   "cell_type": "code",
   "source": "vvp_df.shape",
   "id": "6aa05a65cddce3a0",
   "outputs": [
    {
     "data": {
      "text/plain": [
       "(210, 7)"
      ]
     },
     "execution_count": 383,
     "metadata": {},
     "output_type": "execute_result"
    }
   ],
   "execution_count": 383
  },
  {
   "metadata": {},
   "cell_type": "markdown",
   "source": "3. Визначити оптимальну кількість стовпців.",
   "id": "ea557034ca4150a6"
  },
  {
   "metadata": {
    "ExecuteTime": {
     "end_time": "2024-08-18T15:35:37.302319Z",
     "start_time": "2024-08-18T15:35:37.296208Z"
    }
   },
   "cell_type": "code",
   "source": "vvp_df.columns",
   "id": "7bac2161687b57fe",
   "outputs": [
    {
     "data": {
      "text/plain": [
       "MultiIndex([( 'Country/Territory', 'Country/Territory'),\n",
       "            (        'IMF[1][13]',          'Forecast'),\n",
       "            (        'IMF[1][13]',              'Year'),\n",
       "            (    'World Bank[14]',          'Estimate'),\n",
       "            (    'World Bank[14]',              'Year'),\n",
       "            ('United Nations[15]',          'Estimate'),\n",
       "            ('United Nations[15]',              'Year')],\n",
       "           )"
      ]
     },
     "execution_count": 384,
     "metadata": {},
     "output_type": "execute_result"
    }
   ],
   "execution_count": 384
  },
  {
   "metadata": {},
   "cell_type": "markdown",
   "source": "4. Змінити назви стовпців на більш зручні, наприклад Country MVF_2024 WorldBank_2023 OON_2022",
   "id": "85ff24007db9d24"
  },
  {
   "metadata": {
    "ExecuteTime": {
     "end_time": "2024-08-18T15:35:37.316092Z",
     "start_time": "2024-08-18T15:35:37.304344Z"
    }
   },
   "cell_type": "code",
   "source": [
    "column_namees = [\n",
    "    'Country',\n",
    "    'IMF_Forecast',\n",
    "    'IMF_Year',\n",
    "    'World Bank_Estimate',\n",
    "    'World Bank_Year',\n",
    "    'United Nations_Estimate',\n",
    "    'United Nations_Year'\n",
    "]\n",
    "vvp_df.columns = column_namees\n",
    "vvp_df = vvp_df[vvp_df['Country'] != 'World']\n",
    "vvp_df"
   ],
   "id": "c2b1fe6611955d71",
   "outputs": [
    {
     "data": {
      "text/plain": [
       "              Country IMF_Forecast   IMF_Year World Bank_Estimate  \\\n",
       "1       United States     28781083       2024            27360935   \n",
       "2               China     18532633  [n 1]2024            17794782   \n",
       "3             Germany      4591100       2024             4456081   \n",
       "4               Japan      4110452       2024             4212945   \n",
       "5               India      3937011       2024             3549919   \n",
       "..                ...          ...        ...                 ...   \n",
       "205          Kiribati          311       2024                 279   \n",
       "206             Palau          308       2024                 263   \n",
       "207  Marshall Islands          305       2024                 284   \n",
       "208             Nauru          161       2024                 154   \n",
       "209            Tuvalu           66       2024                  62   \n",
       "\n",
       "    World Bank_Year United Nations_Estimate United Nations_Year  \n",
       "1              2023                25744100                2022  \n",
       "2         [n 3]2023                17963170           [n 1]2022  \n",
       "3              2023                 4076923                2022  \n",
       "4              2023                 4232173                2022  \n",
       "5              2023                 3465541                2022  \n",
       "..              ...                     ...                 ...  \n",
       "205            2023                     223                2022  \n",
       "206            2023                     225                2022  \n",
       "207            2023                     279                2022  \n",
       "208            2023                     147                2022  \n",
       "209            2023                      59                2022  \n",
       "\n",
       "[209 rows x 7 columns]"
      ],
      "text/html": [
       "<div>\n",
       "<style scoped>\n",
       "    .dataframe tbody tr th:only-of-type {\n",
       "        vertical-align: middle;\n",
       "    }\n",
       "\n",
       "    .dataframe tbody tr th {\n",
       "        vertical-align: top;\n",
       "    }\n",
       "\n",
       "    .dataframe thead th {\n",
       "        text-align: right;\n",
       "    }\n",
       "</style>\n",
       "<table border=\"1\" class=\"dataframe\">\n",
       "  <thead>\n",
       "    <tr style=\"text-align: right;\">\n",
       "      <th></th>\n",
       "      <th>Country</th>\n",
       "      <th>IMF_Forecast</th>\n",
       "      <th>IMF_Year</th>\n",
       "      <th>World Bank_Estimate</th>\n",
       "      <th>World Bank_Year</th>\n",
       "      <th>United Nations_Estimate</th>\n",
       "      <th>United Nations_Year</th>\n",
       "    </tr>\n",
       "  </thead>\n",
       "  <tbody>\n",
       "    <tr>\n",
       "      <th>1</th>\n",
       "      <td>United States</td>\n",
       "      <td>28781083</td>\n",
       "      <td>2024</td>\n",
       "      <td>27360935</td>\n",
       "      <td>2023</td>\n",
       "      <td>25744100</td>\n",
       "      <td>2022</td>\n",
       "    </tr>\n",
       "    <tr>\n",
       "      <th>2</th>\n",
       "      <td>China</td>\n",
       "      <td>18532633</td>\n",
       "      <td>[n 1]2024</td>\n",
       "      <td>17794782</td>\n",
       "      <td>[n 3]2023</td>\n",
       "      <td>17963170</td>\n",
       "      <td>[n 1]2022</td>\n",
       "    </tr>\n",
       "    <tr>\n",
       "      <th>3</th>\n",
       "      <td>Germany</td>\n",
       "      <td>4591100</td>\n",
       "      <td>2024</td>\n",
       "      <td>4456081</td>\n",
       "      <td>2023</td>\n",
       "      <td>4076923</td>\n",
       "      <td>2022</td>\n",
       "    </tr>\n",
       "    <tr>\n",
       "      <th>4</th>\n",
       "      <td>Japan</td>\n",
       "      <td>4110452</td>\n",
       "      <td>2024</td>\n",
       "      <td>4212945</td>\n",
       "      <td>2023</td>\n",
       "      <td>4232173</td>\n",
       "      <td>2022</td>\n",
       "    </tr>\n",
       "    <tr>\n",
       "      <th>5</th>\n",
       "      <td>India</td>\n",
       "      <td>3937011</td>\n",
       "      <td>2024</td>\n",
       "      <td>3549919</td>\n",
       "      <td>2023</td>\n",
       "      <td>3465541</td>\n",
       "      <td>2022</td>\n",
       "    </tr>\n",
       "    <tr>\n",
       "      <th>...</th>\n",
       "      <td>...</td>\n",
       "      <td>...</td>\n",
       "      <td>...</td>\n",
       "      <td>...</td>\n",
       "      <td>...</td>\n",
       "      <td>...</td>\n",
       "      <td>...</td>\n",
       "    </tr>\n",
       "    <tr>\n",
       "      <th>205</th>\n",
       "      <td>Kiribati</td>\n",
       "      <td>311</td>\n",
       "      <td>2024</td>\n",
       "      <td>279</td>\n",
       "      <td>2023</td>\n",
       "      <td>223</td>\n",
       "      <td>2022</td>\n",
       "    </tr>\n",
       "    <tr>\n",
       "      <th>206</th>\n",
       "      <td>Palau</td>\n",
       "      <td>308</td>\n",
       "      <td>2024</td>\n",
       "      <td>263</td>\n",
       "      <td>2023</td>\n",
       "      <td>225</td>\n",
       "      <td>2022</td>\n",
       "    </tr>\n",
       "    <tr>\n",
       "      <th>207</th>\n",
       "      <td>Marshall Islands</td>\n",
       "      <td>305</td>\n",
       "      <td>2024</td>\n",
       "      <td>284</td>\n",
       "      <td>2023</td>\n",
       "      <td>279</td>\n",
       "      <td>2022</td>\n",
       "    </tr>\n",
       "    <tr>\n",
       "      <th>208</th>\n",
       "      <td>Nauru</td>\n",
       "      <td>161</td>\n",
       "      <td>2024</td>\n",
       "      <td>154</td>\n",
       "      <td>2023</td>\n",
       "      <td>147</td>\n",
       "      <td>2022</td>\n",
       "    </tr>\n",
       "    <tr>\n",
       "      <th>209</th>\n",
       "      <td>Tuvalu</td>\n",
       "      <td>66</td>\n",
       "      <td>2024</td>\n",
       "      <td>62</td>\n",
       "      <td>2023</td>\n",
       "      <td>59</td>\n",
       "      <td>2022</td>\n",
       "    </tr>\n",
       "  </tbody>\n",
       "</table>\n",
       "<p>209 rows × 7 columns</p>\n",
       "</div>"
      ]
     },
     "execution_count": 385,
     "metadata": {},
     "output_type": "execute_result"
    }
   ],
   "execution_count": 385
  },
  {
   "metadata": {
    "ExecuteTime": {
     "end_time": "2024-08-18T15:35:37.327048Z",
     "start_time": "2024-08-18T15:35:37.317099Z"
    }
   },
   "cell_type": "code",
   "source": [
    "vvp_df = vvp_df.drop(columns=['IMF_Year', 'World Bank_Year', 'United Nations_Year'])\n",
    "vvp_df"
   ],
   "id": "edbb51d50fc53069",
   "outputs": [
    {
     "data": {
      "text/plain": [
       "              Country IMF_Forecast World Bank_Estimate United Nations_Estimate\n",
       "1       United States     28781083            27360935                25744100\n",
       "2               China     18532633            17794782                17963170\n",
       "3             Germany      4591100             4456081                 4076923\n",
       "4               Japan      4110452             4212945                 4232173\n",
       "5               India      3937011             3549919                 3465541\n",
       "..                ...          ...                 ...                     ...\n",
       "205          Kiribati          311                 279                     223\n",
       "206             Palau          308                 263                     225\n",
       "207  Marshall Islands          305                 284                     279\n",
       "208             Nauru          161                 154                     147\n",
       "209            Tuvalu           66                  62                      59\n",
       "\n",
       "[209 rows x 4 columns]"
      ],
      "text/html": [
       "<div>\n",
       "<style scoped>\n",
       "    .dataframe tbody tr th:only-of-type {\n",
       "        vertical-align: middle;\n",
       "    }\n",
       "\n",
       "    .dataframe tbody tr th {\n",
       "        vertical-align: top;\n",
       "    }\n",
       "\n",
       "    .dataframe thead th {\n",
       "        text-align: right;\n",
       "    }\n",
       "</style>\n",
       "<table border=\"1\" class=\"dataframe\">\n",
       "  <thead>\n",
       "    <tr style=\"text-align: right;\">\n",
       "      <th></th>\n",
       "      <th>Country</th>\n",
       "      <th>IMF_Forecast</th>\n",
       "      <th>World Bank_Estimate</th>\n",
       "      <th>United Nations_Estimate</th>\n",
       "    </tr>\n",
       "  </thead>\n",
       "  <tbody>\n",
       "    <tr>\n",
       "      <th>1</th>\n",
       "      <td>United States</td>\n",
       "      <td>28781083</td>\n",
       "      <td>27360935</td>\n",
       "      <td>25744100</td>\n",
       "    </tr>\n",
       "    <tr>\n",
       "      <th>2</th>\n",
       "      <td>China</td>\n",
       "      <td>18532633</td>\n",
       "      <td>17794782</td>\n",
       "      <td>17963170</td>\n",
       "    </tr>\n",
       "    <tr>\n",
       "      <th>3</th>\n",
       "      <td>Germany</td>\n",
       "      <td>4591100</td>\n",
       "      <td>4456081</td>\n",
       "      <td>4076923</td>\n",
       "    </tr>\n",
       "    <tr>\n",
       "      <th>4</th>\n",
       "      <td>Japan</td>\n",
       "      <td>4110452</td>\n",
       "      <td>4212945</td>\n",
       "      <td>4232173</td>\n",
       "    </tr>\n",
       "    <tr>\n",
       "      <th>5</th>\n",
       "      <td>India</td>\n",
       "      <td>3937011</td>\n",
       "      <td>3549919</td>\n",
       "      <td>3465541</td>\n",
       "    </tr>\n",
       "    <tr>\n",
       "      <th>...</th>\n",
       "      <td>...</td>\n",
       "      <td>...</td>\n",
       "      <td>...</td>\n",
       "      <td>...</td>\n",
       "    </tr>\n",
       "    <tr>\n",
       "      <th>205</th>\n",
       "      <td>Kiribati</td>\n",
       "      <td>311</td>\n",
       "      <td>279</td>\n",
       "      <td>223</td>\n",
       "    </tr>\n",
       "    <tr>\n",
       "      <th>206</th>\n",
       "      <td>Palau</td>\n",
       "      <td>308</td>\n",
       "      <td>263</td>\n",
       "      <td>225</td>\n",
       "    </tr>\n",
       "    <tr>\n",
       "      <th>207</th>\n",
       "      <td>Marshall Islands</td>\n",
       "      <td>305</td>\n",
       "      <td>284</td>\n",
       "      <td>279</td>\n",
       "    </tr>\n",
       "    <tr>\n",
       "      <th>208</th>\n",
       "      <td>Nauru</td>\n",
       "      <td>161</td>\n",
       "      <td>154</td>\n",
       "      <td>147</td>\n",
       "    </tr>\n",
       "    <tr>\n",
       "      <th>209</th>\n",
       "      <td>Tuvalu</td>\n",
       "      <td>66</td>\n",
       "      <td>62</td>\n",
       "      <td>59</td>\n",
       "    </tr>\n",
       "  </tbody>\n",
       "</table>\n",
       "<p>209 rows × 4 columns</p>\n",
       "</div>"
      ]
     },
     "execution_count": 386,
     "metadata": {},
     "output_type": "execute_result"
    }
   ],
   "execution_count": 386
  },
  {
   "metadata": {},
   "cell_type": "markdown",
   "source": "5. Визначити тип даних",
   "id": "cbd38141af8b7622"
  },
  {
   "metadata": {
    "ExecuteTime": {
     "end_time": "2024-08-18T15:35:37.334489Z",
     "start_time": "2024-08-18T15:35:37.329081Z"
    }
   },
   "cell_type": "code",
   "source": "vvp_df.dtypes",
   "id": "5d5b6c5b8b22bafc",
   "outputs": [
    {
     "data": {
      "text/plain": [
       "Country                    object\n",
       "IMF_Forecast               object\n",
       "World Bank_Estimate        object\n",
       "United Nations_Estimate    object\n",
       "dtype: object"
      ]
     },
     "execution_count": 387,
     "metadata": {},
     "output_type": "execute_result"
    }
   ],
   "execution_count": 387
  },
  {
   "metadata": {
    "ExecuteTime": {
     "end_time": "2024-08-18T15:35:37.345898Z",
     "start_time": "2024-08-18T15:35:37.336524Z"
    }
   },
   "cell_type": "code",
   "source": [
    "vvp_df.replace(\"—\", float(\"nan\"), inplace=True)\n",
    "vvp_df['IMF_Forecast'] = pd.to_numeric(vvp_df['IMF_Forecast'], errors='coerce')\n",
    "vvp_df['World Bank_Estimate'] = pd.to_numeric(vvp_df['World Bank_Estimate'], errors='coerce')\n",
    "vvp_df['United Nations_Estimate'] = pd.to_numeric(vvp_df['United Nations_Estimate'], errors='coerce')\n",
    "vvp_df.dtypes"
   ],
   "id": "9eedbb32906ce420",
   "outputs": [
    {
     "data": {
      "text/plain": [
       "Country                     object\n",
       "IMF_Forecast               float64\n",
       "World Bank_Estimate        float64\n",
       "United Nations_Estimate    float64\n",
       "dtype: object"
      ]
     },
     "execution_count": 388,
     "metadata": {},
     "output_type": "execute_result"
    }
   ],
   "execution_count": 388
  },
  {
   "metadata": {},
   "cell_type": "markdown",
   "source": "6. Замініть у таблиці значення \"—\" на значення NaN. Перевірити наявність пропущених значень. При наявності, замінити пропущені значення на середнє значення",
   "id": "2f5acdf81a1e4252"
  },
  {
   "metadata": {
    "ExecuteTime": {
     "end_time": "2024-08-18T15:35:37.418349Z",
     "start_time": "2024-08-18T15:35:37.411102Z"
    }
   },
   "cell_type": "code",
   "source": "vvp_df.isnull().sum()",
   "id": "70fd2349df3aabdf",
   "outputs": [
    {
     "data": {
      "text/plain": [
       "Country                     0\n",
       "IMF_Forecast               15\n",
       "World Bank_Estimate         8\n",
       "United Nations_Estimate     1\n",
       "dtype: int64"
      ]
     },
     "execution_count": 389,
     "metadata": {},
     "output_type": "execute_result"
    }
   ],
   "execution_count": 389
  },
  {
   "metadata": {
    "ExecuteTime": {
     "end_time": "2024-08-18T15:35:37.568904Z",
     "start_time": "2024-08-18T15:35:37.554502Z"
    }
   },
   "cell_type": "code",
   "source": [
    "vvp_df = vvp_df.replace({\"—\": np.nan})\n",
    "vvp_df = vvp_df.fillna(vvp_df.mean(numeric_only=True), axis = 0)\n",
    "vvp_df"
   ],
   "id": "b4ee0565d261f6e",
   "outputs": [
    {
     "data": {
      "text/plain": [
       "              Country  IMF_Forecast  World Bank_Estimate  \\\n",
       "1       United States    28781083.0           27360935.0   \n",
       "2               China    18532633.0           17794782.0   \n",
       "3             Germany     4591100.0            4456081.0   \n",
       "4               Japan     4110452.0            4212945.0   \n",
       "5               India     3937011.0            3549919.0   \n",
       "..                ...           ...                  ...   \n",
       "205          Kiribati         311.0                279.0   \n",
       "206             Palau         308.0                263.0   \n",
       "207  Marshall Islands         305.0                284.0   \n",
       "208             Nauru         161.0                154.0   \n",
       "209            Tuvalu          66.0                 62.0   \n",
       "\n",
       "     United Nations_Estimate  \n",
       "1                 25744100.0  \n",
       "2                 17963170.0  \n",
       "3                  4076923.0  \n",
       "4                  4232173.0  \n",
       "5                  3465541.0  \n",
       "..                       ...  \n",
       "205                    223.0  \n",
       "206                    225.0  \n",
       "207                    279.0  \n",
       "208                    147.0  \n",
       "209                     59.0  \n",
       "\n",
       "[209 rows x 4 columns]"
      ],
      "text/html": [
       "<div>\n",
       "<style scoped>\n",
       "    .dataframe tbody tr th:only-of-type {\n",
       "        vertical-align: middle;\n",
       "    }\n",
       "\n",
       "    .dataframe tbody tr th {\n",
       "        vertical-align: top;\n",
       "    }\n",
       "\n",
       "    .dataframe thead th {\n",
       "        text-align: right;\n",
       "    }\n",
       "</style>\n",
       "<table border=\"1\" class=\"dataframe\">\n",
       "  <thead>\n",
       "    <tr style=\"text-align: right;\">\n",
       "      <th></th>\n",
       "      <th>Country</th>\n",
       "      <th>IMF_Forecast</th>\n",
       "      <th>World Bank_Estimate</th>\n",
       "      <th>United Nations_Estimate</th>\n",
       "    </tr>\n",
       "  </thead>\n",
       "  <tbody>\n",
       "    <tr>\n",
       "      <th>1</th>\n",
       "      <td>United States</td>\n",
       "      <td>28781083.0</td>\n",
       "      <td>27360935.0</td>\n",
       "      <td>25744100.0</td>\n",
       "    </tr>\n",
       "    <tr>\n",
       "      <th>2</th>\n",
       "      <td>China</td>\n",
       "      <td>18532633.0</td>\n",
       "      <td>17794782.0</td>\n",
       "      <td>17963170.0</td>\n",
       "    </tr>\n",
       "    <tr>\n",
       "      <th>3</th>\n",
       "      <td>Germany</td>\n",
       "      <td>4591100.0</td>\n",
       "      <td>4456081.0</td>\n",
       "      <td>4076923.0</td>\n",
       "    </tr>\n",
       "    <tr>\n",
       "      <th>4</th>\n",
       "      <td>Japan</td>\n",
       "      <td>4110452.0</td>\n",
       "      <td>4212945.0</td>\n",
       "      <td>4232173.0</td>\n",
       "    </tr>\n",
       "    <tr>\n",
       "      <th>5</th>\n",
       "      <td>India</td>\n",
       "      <td>3937011.0</td>\n",
       "      <td>3549919.0</td>\n",
       "      <td>3465541.0</td>\n",
       "    </tr>\n",
       "    <tr>\n",
       "      <th>...</th>\n",
       "      <td>...</td>\n",
       "      <td>...</td>\n",
       "      <td>...</td>\n",
       "      <td>...</td>\n",
       "    </tr>\n",
       "    <tr>\n",
       "      <th>205</th>\n",
       "      <td>Kiribati</td>\n",
       "      <td>311.0</td>\n",
       "      <td>279.0</td>\n",
       "      <td>223.0</td>\n",
       "    </tr>\n",
       "    <tr>\n",
       "      <th>206</th>\n",
       "      <td>Palau</td>\n",
       "      <td>308.0</td>\n",
       "      <td>263.0</td>\n",
       "      <td>225.0</td>\n",
       "    </tr>\n",
       "    <tr>\n",
       "      <th>207</th>\n",
       "      <td>Marshall Islands</td>\n",
       "      <td>305.0</td>\n",
       "      <td>284.0</td>\n",
       "      <td>279.0</td>\n",
       "    </tr>\n",
       "    <tr>\n",
       "      <th>208</th>\n",
       "      <td>Nauru</td>\n",
       "      <td>161.0</td>\n",
       "      <td>154.0</td>\n",
       "      <td>147.0</td>\n",
       "    </tr>\n",
       "    <tr>\n",
       "      <th>209</th>\n",
       "      <td>Tuvalu</td>\n",
       "      <td>66.0</td>\n",
       "      <td>62.0</td>\n",
       "      <td>59.0</td>\n",
       "    </tr>\n",
       "  </tbody>\n",
       "</table>\n",
       "<p>209 rows × 4 columns</p>\n",
       "</div>"
      ]
     },
     "execution_count": 390,
     "metadata": {},
     "output_type": "execute_result"
    }
   ],
   "execution_count": 390
  },
  {
   "metadata": {},
   "cell_type": "markdown",
   "source": "7. Ще раз перевірити наявність пропущених значень",
   "id": "e58febad192a5afb"
  },
  {
   "metadata": {
    "ExecuteTime": {
     "end_time": "2024-08-18T15:35:38.050162Z",
     "start_time": "2024-08-18T15:35:38.043390Z"
    }
   },
   "cell_type": "code",
   "source": "vvp_df.isnull().sum()",
   "id": "1c6f88234ea14926",
   "outputs": [
    {
     "data": {
      "text/plain": [
       "Country                    0\n",
       "IMF_Forecast               0\n",
       "World Bank_Estimate        0\n",
       "United Nations_Estimate    0\n",
       "dtype: int64"
      ]
     },
     "execution_count": 391,
     "metadata": {},
     "output_type": "execute_result"
    }
   ],
   "execution_count": 391
  },
  {
   "metadata": {},
   "cell_type": "markdown",
   "source": "8. Перевірити наявність дублікатів. При наявності видалити дублікати.",
   "id": "37ba828dec773fc7"
  },
  {
   "metadata": {
    "ExecuteTime": {
     "end_time": "2024-08-18T15:35:38.151723Z",
     "start_time": "2024-08-18T15:35:38.144774Z"
    }
   },
   "cell_type": "code",
   "source": "vvp_df.duplicated()",
   "id": "d4338029a7481466",
   "outputs": [
    {
     "data": {
      "text/plain": [
       "1      False\n",
       "2      False\n",
       "3      False\n",
       "4      False\n",
       "5      False\n",
       "       ...  \n",
       "205    False\n",
       "206    False\n",
       "207    False\n",
       "208    False\n",
       "209    False\n",
       "Length: 209, dtype: bool"
      ]
     },
     "execution_count": 392,
     "metadata": {},
     "output_type": "execute_result"
    }
   ],
   "execution_count": 392
  },
  {
   "metadata": {
    "ExecuteTime": {
     "end_time": "2024-08-18T15:35:38.347741Z",
     "start_time": "2024-08-18T15:35:38.338527Z"
    }
   },
   "cell_type": "code",
   "source": [
    "vvp_df.drop_duplicates()\n",
    "vvp_df.duplicated()"
   ],
   "id": "3e3aa1cdf579409d",
   "outputs": [
    {
     "data": {
      "text/plain": [
       "1      False\n",
       "2      False\n",
       "3      False\n",
       "4      False\n",
       "5      False\n",
       "       ...  \n",
       "205    False\n",
       "206    False\n",
       "207    False\n",
       "208    False\n",
       "209    False\n",
       "Length: 209, dtype: bool"
      ]
     },
     "execution_count": 393,
     "metadata": {},
     "output_type": "execute_result"
    }
   ],
   "execution_count": 393
  },
  {
   "metadata": {},
   "cell_type": "markdown",
   "source": "9. Вивести описову статистику датасету describe()",
   "id": "f398a351873c974e"
  },
  {
   "metadata": {
    "ExecuteTime": {
     "end_time": "2024-08-18T15:35:38.419314Z",
     "start_time": "2024-08-18T15:35:38.405295Z"
    }
   },
   "cell_type": "code",
   "source": "vvp_df.describe()",
   "id": "8652d2b5fb31430",
   "outputs": [
    {
     "data": {
      "text/plain": [
       "       IMF_Forecast  World Bank_Estimate  United Nations_Estimate\n",
       "count  2.090000e+02         2.090000e+02             2.090000e+02\n",
       "mean   5.644339e+05         5.178115e+05             4.811087e+05\n",
       "std    2.435307e+06         2.325859e+06             2.236743e+06\n",
       "min    6.600000e+01         6.200000e+01             5.900000e+01\n",
       "25%    1.446700e+04         1.043800e+04             8.772000e+03\n",
       "50%    5.631000e+04         4.320500e+04             3.171700e+04\n",
       "75%    4.099890e+05         3.355330e+05             2.371010e+05\n",
       "max    2.878108e+07         2.736094e+07             2.574410e+07"
      ],
      "text/html": [
       "<div>\n",
       "<style scoped>\n",
       "    .dataframe tbody tr th:only-of-type {\n",
       "        vertical-align: middle;\n",
       "    }\n",
       "\n",
       "    .dataframe tbody tr th {\n",
       "        vertical-align: top;\n",
       "    }\n",
       "\n",
       "    .dataframe thead th {\n",
       "        text-align: right;\n",
       "    }\n",
       "</style>\n",
       "<table border=\"1\" class=\"dataframe\">\n",
       "  <thead>\n",
       "    <tr style=\"text-align: right;\">\n",
       "      <th></th>\n",
       "      <th>IMF_Forecast</th>\n",
       "      <th>World Bank_Estimate</th>\n",
       "      <th>United Nations_Estimate</th>\n",
       "    </tr>\n",
       "  </thead>\n",
       "  <tbody>\n",
       "    <tr>\n",
       "      <th>count</th>\n",
       "      <td>2.090000e+02</td>\n",
       "      <td>2.090000e+02</td>\n",
       "      <td>2.090000e+02</td>\n",
       "    </tr>\n",
       "    <tr>\n",
       "      <th>mean</th>\n",
       "      <td>5.644339e+05</td>\n",
       "      <td>5.178115e+05</td>\n",
       "      <td>4.811087e+05</td>\n",
       "    </tr>\n",
       "    <tr>\n",
       "      <th>std</th>\n",
       "      <td>2.435307e+06</td>\n",
       "      <td>2.325859e+06</td>\n",
       "      <td>2.236743e+06</td>\n",
       "    </tr>\n",
       "    <tr>\n",
       "      <th>min</th>\n",
       "      <td>6.600000e+01</td>\n",
       "      <td>6.200000e+01</td>\n",
       "      <td>5.900000e+01</td>\n",
       "    </tr>\n",
       "    <tr>\n",
       "      <th>25%</th>\n",
       "      <td>1.446700e+04</td>\n",
       "      <td>1.043800e+04</td>\n",
       "      <td>8.772000e+03</td>\n",
       "    </tr>\n",
       "    <tr>\n",
       "      <th>50%</th>\n",
       "      <td>5.631000e+04</td>\n",
       "      <td>4.320500e+04</td>\n",
       "      <td>3.171700e+04</td>\n",
       "    </tr>\n",
       "    <tr>\n",
       "      <th>75%</th>\n",
       "      <td>4.099890e+05</td>\n",
       "      <td>3.355330e+05</td>\n",
       "      <td>2.371010e+05</td>\n",
       "    </tr>\n",
       "    <tr>\n",
       "      <th>max</th>\n",
       "      <td>2.878108e+07</td>\n",
       "      <td>2.736094e+07</td>\n",
       "      <td>2.574410e+07</td>\n",
       "    </tr>\n",
       "  </tbody>\n",
       "</table>\n",
       "</div>"
      ]
     },
     "execution_count": 394,
     "metadata": {},
     "output_type": "execute_result"
    }
   ],
   "execution_count": 394
  },
  {
   "metadata": {},
   "cell_type": "markdown",
   "source": "10. Визначте відхилення (різницю) між показниками MVF_2024 та WorldBank_2023 для кожної країни. У яких країнах ці показники найбільше відрізняються (дати відповідт)?",
   "id": "e55c53db93967304"
  },
  {
   "metadata": {
    "ExecuteTime": {
     "end_time": "2024-08-18T15:35:38.550717Z",
     "start_time": "2024-08-18T15:35:38.544218Z"
    }
   },
   "cell_type": "code",
   "source": [
    "vvp_df['Difference_MVF_WB'] = vvp_df['IMF_Forecast'] - vvp_df['World Bank_Estimate']\n",
    "\n",
    "max_diff = vvp_df.loc[vvp_df['Difference_MVF_WB'].idxmax(), 'Country']\n",
    "min_diff = vvp_df.loc[vvp_df['Difference_MVF_WB'].idxmin(), 'Country']\n",
    "\n",
    "print(f\"Найбільше відхилення: {max_diff}\")\n",
    "print(f\"Найменше відхилення: {min_diff}\")"
   ],
   "id": "452e761a07d3a8d1",
   "outputs": [
    {
     "name": "stdout",
     "output_type": "stream",
     "text": [
      "Найбільше відхилення: United States\n",
      "Найменше відхилення: South Sudan\n"
     ]
    }
   ],
   "execution_count": 395
  },
  {
   "metadata": {},
   "cell_type": "markdown",
   "source": "11. Обчисліть кореляцію між показниками MVF_2024, WorldBank_2023 та OON_2022. Які пари змінних мають найвищу кореляцію?",
   "id": "4322d408af371705"
  },
  {
   "metadata": {
    "ExecuteTime": {
     "end_time": "2024-08-18T15:35:38.618199Z",
     "start_time": "2024-08-18T15:35:38.607634Z"
    }
   },
   "cell_type": "code",
   "source": [
    "corr = vvp_df[['IMF_Forecast', 'World Bank_Estimate', 'United Nations_Estimate']].corr()\n",
    "corr"
   ],
   "id": "934a67bac8482e2d",
   "outputs": [
    {
     "data": {
      "text/plain": [
       "                         IMF_Forecast  World Bank_Estimate  \\\n",
       "IMF_Forecast                 1.000000             0.998216   \n",
       "World Bank_Estimate          0.998216             1.000000   \n",
       "United Nations_Estimate      0.997244             0.998610   \n",
       "\n",
       "                         United Nations_Estimate  \n",
       "IMF_Forecast                            0.997244  \n",
       "World Bank_Estimate                     0.998610  \n",
       "United Nations_Estimate                 1.000000  "
      ],
      "text/html": [
       "<div>\n",
       "<style scoped>\n",
       "    .dataframe tbody tr th:only-of-type {\n",
       "        vertical-align: middle;\n",
       "    }\n",
       "\n",
       "    .dataframe tbody tr th {\n",
       "        vertical-align: top;\n",
       "    }\n",
       "\n",
       "    .dataframe thead th {\n",
       "        text-align: right;\n",
       "    }\n",
       "</style>\n",
       "<table border=\"1\" class=\"dataframe\">\n",
       "  <thead>\n",
       "    <tr style=\"text-align: right;\">\n",
       "      <th></th>\n",
       "      <th>IMF_Forecast</th>\n",
       "      <th>World Bank_Estimate</th>\n",
       "      <th>United Nations_Estimate</th>\n",
       "    </tr>\n",
       "  </thead>\n",
       "  <tbody>\n",
       "    <tr>\n",
       "      <th>IMF_Forecast</th>\n",
       "      <td>1.000000</td>\n",
       "      <td>0.998216</td>\n",
       "      <td>0.997244</td>\n",
       "    </tr>\n",
       "    <tr>\n",
       "      <th>World Bank_Estimate</th>\n",
       "      <td>0.998216</td>\n",
       "      <td>1.000000</td>\n",
       "      <td>0.998610</td>\n",
       "    </tr>\n",
       "    <tr>\n",
       "      <th>United Nations_Estimate</th>\n",
       "      <td>0.997244</td>\n",
       "      <td>0.998610</td>\n",
       "      <td>1.000000</td>\n",
       "    </tr>\n",
       "  </tbody>\n",
       "</table>\n",
       "</div>"
      ]
     },
     "execution_count": 396,
     "metadata": {},
     "output_type": "execute_result"
    }
   ],
   "execution_count": 396
  },
  {
   "metadata": {},
   "cell_type": "markdown",
   "source": "12. Обчисліть середнє значення для кожного стовпця (MVF_2024, WorldBank_2023, OON_2022). Як це середнє значення змінюється між роками?",
   "id": "d6e9cccc3c2e72b8"
  },
  {
   "metadata": {
    "ExecuteTime": {
     "end_time": "2024-08-18T15:35:38.695757Z",
     "start_time": "2024-08-18T15:35:38.688309Z"
    }
   },
   "cell_type": "code",
   "source": "vvp_df[['IMF_Forecast', 'World Bank_Estimate', 'United Nations_Estimate']].mean()",
   "id": "66ef346110d42c70",
   "outputs": [
    {
     "data": {
      "text/plain": [
       "IMF_Forecast               564433.932990\n",
       "World Bank_Estimate        517811.472637\n",
       "United Nations_Estimate    481108.673077\n",
       "dtype: float64"
      ]
     },
     "execution_count": 397,
     "metadata": {},
     "output_type": "execute_result"
    }
   ],
   "execution_count": 397
  },
  {
   "metadata": {},
   "cell_type": "markdown",
   "source": "13. Обчисліть стандартне відхилення показників для кожної країни. Яка країна має найвищу варіативність у показниках між роками?",
   "id": "2f066b76974d7ede"
  },
  {
   "metadata": {
    "ExecuteTime": {
     "end_time": "2024-08-18T15:35:38.723786Z",
     "start_time": "2024-08-18T15:35:38.715539Z"
    }
   },
   "cell_type": "code",
   "source": "vvp_df.loc[vvp_df[['IMF_Forecast', 'World Bank_Estimate', 'United Nations_Estimate']].std(axis=1).idxmax(), 'Country']",
   "id": "f3d20fa7fbad5118",
   "outputs": [
    {
     "data": {
      "text/plain": [
       "'United States'"
      ]
     },
     "execution_count": 398,
     "metadata": {},
     "output_type": "execute_result"
    }
   ],
   "execution_count": 398
  },
  {
   "metadata": {},
   "cell_type": "markdown",
   "source": "14. Визначення країни з найвищим та найнижчим показниками: Знайдіть країну з найвищим та найнижчим показниками у кожному з років (MVF_2024, WorldBank_2023, OON_2022)",
   "id": "13d728bd0a1309bb"
  },
  {
   "metadata": {
    "ExecuteTime": {
     "end_time": "2024-08-18T15:35:38.840271Z",
     "start_time": "2024-08-18T15:35:38.834327Z"
    }
   },
   "cell_type": "code",
   "source": [
    "max1 = vvp_df.loc[vvp_df['IMF_Forecast'].idxmax(), 'Country']\n",
    "min1 = vvp_df.loc[vvp_df['IMF_Forecast'].idxmin(), 'Country']\n",
    "\n",
    "max2 = vvp_df.loc[vvp_df['World Bank_Estimate'].idxmax(), 'Country']\n",
    "min2 = vvp_df.loc[vvp_df['World Bank_Estimate'].idxmin(), 'Country']\n",
    "\n",
    "max3 = vvp_df.loc[vvp_df['United Nations_Estimate'].idxmax(), 'Country']\n",
    "min3 = vvp_df.loc[vvp_df['United Nations_Estimate'].idxmin(), 'Country']\n",
    "\n",
    "print(f\"Найвищий IMF_Forecast у країни: {max1}, найнижчий у країни: {min1}\")\n",
    "print(f\"Найвищий World Bank_Estimate у країни: {max2}, найнижчий у країни: {min2}\")\n",
    "print(f\"Найвищий United Nations_Estimate у країни: {max3}, найнижчий у країни: {min3}\")"
   ],
   "id": "fdbe4319168f0719",
   "outputs": [
    {
     "name": "stdout",
     "output_type": "stream",
     "text": [
      "Найвищий IMF_Forecast у країни: United States, найнижчий у країни: Tuvalu\n",
      "Найвищий World Bank_Estimate у країни: United States, найнижчий у країни: Tuvalu\n",
      "Найвищий United Nations_Estimate у країни: United States, найнижчий у країни: Tuvalu\n"
     ]
    }
   ],
   "execution_count": 399
  },
  {
   "metadata": {},
   "cell_type": "markdown",
   "source": "15. Побудуйте гістограму для розподілу показників MVF_2024 серед всіх країн. Який вигляд має розподіл? Чи є країни, що виділяються?",
   "id": "f4a8233f48df9b7a"
  },
  {
   "metadata": {
    "ExecuteTime": {
     "end_time": "2024-08-18T15:35:39.007907Z",
     "start_time": "2024-08-18T15:35:38.887025Z"
    }
   },
   "cell_type": "code",
   "source": [
    "plt.hist(vvp_df['IMF_Forecast'].dropna(), bins=20)\n",
    "plt.title('Розподіл показників IMF_Forecast')\n",
    "plt.xlabel('IMF_Forecast (млн. дол. США)')\n",
    "plt.ylabel('Кількість країн')\n",
    "plt.show()"
   ],
   "id": "6ec9bdb30b787d62",
   "outputs": [
    {
     "data": {
      "text/plain": [
       "<Figure size 640x480 with 1 Axes>"
      ],
      "image/png": "[encoded data removed]"
     },
     "metadata": {},
     "output_type": "display_data"
    }
   ],
   "execution_count": 400
  },
  {
   "metadata": {},
   "cell_type": "markdown",
   "source": "16. Розрахуйте частку кожної країни в загальному значенні для кожного року (MVF_2024, WorldBank_2023, OON_2022). Як змінюються частки країн з часом (дати відповідь)?",
   "id": "bb6f63ffe7be674"
  },
  {
   "metadata": {
    "ExecuteTime": {
     "end_time": "2024-08-18T15:35:39.036134Z",
     "start_time": "2024-08-18T15:35:39.022917Z"
    }
   },
   "cell_type": "code",
   "source": [
    "vvp_df['Share IMF_Forecast'] = vvp_df['IMF_Forecast'] / vvp_df['IMF_Forecast'].sum()\n",
    "vvp_df['Share World Bank_Estimate'] = vvp_df['World Bank_Estimate'] / vvp_df['World Bank_Estimate'].sum()\n",
    "vvp_df['Share United Nations_Estimate'] = vvp_df['United Nations_Estimate'] / vvp_df['United Nations_Estimate'].sum()\n",
    "vvp_df[['Country',\n",
    "        'Share IMF_Forecast',\n",
    "        'Share World Bank_Estimate',\n",
    "        'Share United Nations_Estimate'\n",
    "        ]]"
   ],
   "id": "2a41557fb694e686",
   "outputs": [
    {
     "data": {
      "text/plain": [
       "              Country  Share IMF_Forecast  Share World Bank_Estimate  \\\n",
       "1       United States        2.439764e-01               2.528209e-01   \n",
       "2               China        1.571006e-01               1.644276e-01   \n",
       "3             Germany        3.891861e-02               4.117514e-02   \n",
       "4               Japan        3.484417e-02               3.892851e-02   \n",
       "5               India        3.337392e-02               3.280201e-02   \n",
       "..                ...                 ...                        ...   \n",
       "205          Kiribati        2.636337e-06               2.578020e-06   \n",
       "206             Palau        2.610906e-06               2.430176e-06   \n",
       "207  Marshall Islands        2.585476e-06               2.624221e-06   \n",
       "208             Nauru        1.364792e-06               1.422993e-06   \n",
       "209            Tuvalu        5.594800e-07               5.728933e-07   \n",
       "\n",
       "     Share United Nations_Estimate  \n",
       "1                     2.560285e-01  \n",
       "2                     1.786461e-01  \n",
       "3                     4.054554e-02  \n",
       "4                     4.208952e-02  \n",
       "5                     3.446526e-02  \n",
       "..                             ...  \n",
       "205                   2.217764e-06  \n",
       "206                   2.237655e-06  \n",
       "207                   2.774692e-06  \n",
       "208                   1.461934e-06  \n",
       "209                   5.867628e-07  \n",
       "\n",
       "[209 rows x 4 columns]"
      ],
      "text/html": [
       "<div>\n",
       "<style scoped>\n",
       "    .dataframe tbody tr th:only-of-type {\n",
       "        vertical-align: middle;\n",
       "    }\n",
       "\n",
       "    .dataframe tbody tr th {\n",
       "        vertical-align: top;\n",
       "    }\n",
       "\n",
       "    .dataframe thead th {\n",
       "        text-align: right;\n",
       "    }\n",
       "</style>\n",
       "<table border=\"1\" class=\"dataframe\">\n",
       "  <thead>\n",
       "    <tr style=\"text-align: right;\">\n",
       "      <th></th>\n",
       "      <th>Country</th>\n",
       "      <th>Share IMF_Forecast</th>\n",
       "      <th>Share World Bank_Estimate</th>\n",
       "      <th>Share United Nations_Estimate</th>\n",
       "    </tr>\n",
       "  </thead>\n",
       "  <tbody>\n",
       "    <tr>\n",
       "      <th>1</th>\n",
       "      <td>United States</td>\n",
       "      <td>2.439764e-01</td>\n",
       "      <td>2.528209e-01</td>\n",
       "      <td>2.560285e-01</td>\n",
       "    </tr>\n",
       "    <tr>\n",
       "      <th>2</th>\n",
       "      <td>China</td>\n",
       "      <td>1.571006e-01</td>\n",
       "      <td>1.644276e-01</td>\n",
       "      <td>1.786461e-01</td>\n",
       "    </tr>\n",
       "    <tr>\n",
       "      <th>3</th>\n",
       "      <td>Germany</td>\n",
       "      <td>3.891861e-02</td>\n",
       "      <td>4.117514e-02</td>\n",
       "      <td>4.054554e-02</td>\n",
       "    </tr>\n",
       "    <tr>\n",
       "      <th>4</th>\n",
       "      <td>Japan</td>\n",
       "      <td>3.484417e-02</td>\n",
       "      <td>3.892851e-02</td>\n",
       "      <td>4.208952e-02</td>\n",
       "    </tr>\n",
       "    <tr>\n",
       "      <th>5</th>\n",
       "      <td>India</td>\n",
       "      <td>3.337392e-02</td>\n",
       "      <td>3.280201e-02</td>\n",
       "      <td>3.446526e-02</td>\n",
       "    </tr>\n",
       "    <tr>\n",
       "      <th>...</th>\n",
       "      <td>...</td>\n",
       "      <td>...</td>\n",
       "      <td>...</td>\n",
       "      <td>...</td>\n",
       "    </tr>\n",
       "    <tr>\n",
       "      <th>205</th>\n",
       "      <td>Kiribati</td>\n",
       "      <td>2.636337e-06</td>\n",
       "      <td>2.578020e-06</td>\n",
       "      <td>2.217764e-06</td>\n",
       "    </tr>\n",
       "    <tr>\n",
       "      <th>206</th>\n",
       "      <td>Palau</td>\n",
       "      <td>2.610906e-06</td>\n",
       "      <td>2.430176e-06</td>\n",
       "      <td>2.237655e-06</td>\n",
       "    </tr>\n",
       "    <tr>\n",
       "      <th>207</th>\n",
       "      <td>Marshall Islands</td>\n",
       "      <td>2.585476e-06</td>\n",
       "      <td>2.624221e-06</td>\n",
       "      <td>2.774692e-06</td>\n",
       "    </tr>\n",
       "    <tr>\n",
       "      <th>208</th>\n",
       "      <td>Nauru</td>\n",
       "      <td>1.364792e-06</td>\n",
       "      <td>1.422993e-06</td>\n",
       "      <td>1.461934e-06</td>\n",
       "    </tr>\n",
       "    <tr>\n",
       "      <th>209</th>\n",
       "      <td>Tuvalu</td>\n",
       "      <td>5.594800e-07</td>\n",
       "      <td>5.728933e-07</td>\n",
       "      <td>5.867628e-07</td>\n",
       "    </tr>\n",
       "  </tbody>\n",
       "</table>\n",
       "<p>209 rows × 4 columns</p>\n",
       "</div>"
      ]
     },
     "execution_count": 401,
     "metadata": {},
     "output_type": "execute_result"
    }
   ],
   "execution_count": 401
  },
  {
   "metadata": {},
   "cell_type": "markdown",
   "source": "17.Візуалізуйте зміни в показниках для кожної країни за три роки на графіку. Які країни показують стабільне зростання або спад (дати відповідь)?\n",
   "id": "240923aa5678c707"
  },
  {
   "metadata": {
    "ExecuteTime": {
     "end_time": "2024-08-18T15:35:39.232839Z",
     "start_time": "2024-08-18T15:35:39.066314Z"
    }
   },
   "cell_type": "code",
   "source": [
    "vvp_df.set_index('Country')[['IMF_Forecast', 'World Bank_Estimate', 'United Nations_Estimate']].plot(kind='line', figsize=(12, 8))\n",
    "plt.title('Зміни показників за три роки')\n",
    "plt.ylabel('ВВП (млн. дол. США)')\n",
    "plt.xlabel('Країни')\n",
    "plt.xticks(rotation=90)\n",
    "plt.show()"
   ],
   "id": "57f7cf69cfc20e1c",
   "outputs": [
    {
     "data": {
      "text/plain": [
       "<Figure size 1200x800 with 1 Axes>"
      ],
      "image/png": "[encoded data removed]"
     },
     "metadata": {},
     "output_type": "display_data"
    }
   ],
   "execution_count": 402
  },
  {
   "metadata": {},
   "cell_type": "markdown",
   "source": "Завдання №2",
   "id": "d0288e22d9bd417f"
  },
  {
   "metadata": {
    "ExecuteTime": {
     "end_time": "2024-08-18T15:35:39.252121Z",
     "start_time": "2024-08-18T15:35:39.233899Z"
    }
   },
   "cell_type": "code",
   "source": [
    "path = \"C:/Users/Иван/Desktop/Labs/LB_2/titanic.csv\"\n",
    "titanic = pd.read_csv(path)\n",
    "titanic"
   ],
   "id": "c635f72222c1220e",
   "outputs": [
    {
     "data": {
      "text/plain": [
       "     PassengerId  Survived  Pclass  \\\n",
       "0            892         0       3   \n",
       "1            893         1       3   \n",
       "2            894         0       2   \n",
       "3            895         0       3   \n",
       "4            896         1       3   \n",
       "..           ...       ...     ...   \n",
       "413         1305         0       3   \n",
       "414         1306         1       1   \n",
       "415         1307         0       3   \n",
       "416         1308         0       3   \n",
       "417         1309         0       3   \n",
       "\n",
       "                                             Name     Sex   Age  SibSp  Parch  \\\n",
       "0                                Kelly, Mr. James    male  34.5      0      0   \n",
       "1                Wilkes, Mrs. James (Ellen Needs)  female  47.0      1      0   \n",
       "2                       Myles, Mr. Thomas Francis    male  62.0      0      0   \n",
       "3                                Wirz, Mr. Albert    male  27.0      0      0   \n",
       "4    Hirvonen, Mrs. Alexander (Helga E Lindqvist)  female  22.0      1      1   \n",
       "..                                            ...     ...   ...    ...    ...   \n",
       "413                            Spector, Mr. Woolf    male   NaN      0      0   \n",
       "414                  Oliva y Ocana, Dona. Fermina  female  39.0      0      0   \n",
       "415                  Saether, Mr. Simon Sivertsen    male  38.5      0      0   \n",
       "416                           Ware, Mr. Frederick    male   NaN      0      0   \n",
       "417                      Peter, Master. Michael J    male   NaN      1      1   \n",
       "\n",
       "                 Ticket      Fare Cabin Embarked  \n",
       "0                330911    7.8292   NaN        Q  \n",
       "1                363272    7.0000   NaN        S  \n",
       "2                240276    9.6875   NaN        Q  \n",
       "3                315154    8.6625   NaN        S  \n",
       "4               3101298   12.2875   NaN        S  \n",
       "..                  ...       ...   ...      ...  \n",
       "413           A.5. 3236    8.0500   NaN        S  \n",
       "414            PC 17758  108.9000  C105        C  \n",
       "415  SOTON/O.Q. 3101262    7.2500   NaN        S  \n",
       "416              359309    8.0500   NaN        S  \n",
       "417                2668   22.3583   NaN        C  \n",
       "\n",
       "[418 rows x 12 columns]"
      ],
      "text/html": [
       "<div>\n",
       "<style scoped>\n",
       "    .dataframe tbody tr th:only-of-type {\n",
       "        vertical-align: middle;\n",
       "    }\n",
       "\n",
       "    .dataframe tbody tr th {\n",
       "        vertical-align: top;\n",
       "    }\n",
       "\n",
       "    .dataframe thead th {\n",
       "        text-align: right;\n",
       "    }\n",
       "</style>\n",
       "<table border=\"1\" class=\"dataframe\">\n",
       "  <thead>\n",
       "    <tr style=\"text-align: right;\">\n",
       "      <th></th>\n",
       "      <th>PassengerId</th>\n",
       "      <th>Survived</th>\n",
       "      <th>Pclass</th>\n",
       "      <th>Name</th>\n",
       "      <th>Sex</th>\n",
       "      <th>Age</th>\n",
       "      <th>SibSp</th>\n",
       "      <th>Parch</th>\n",
       "      <th>Ticket</th>\n",
       "      <th>Fare</th>\n",
       "      <th>Cabin</th>\n",
       "      <th>Embarked</th>\n",
       "    </tr>\n",
       "  </thead>\n",
       "  <tbody>\n",
       "    <tr>\n",
       "      <th>0</th>\n",
       "      <td>892</td>\n",
       "      <td>0</td>\n",
       "      <td>3</td>\n",
       "      <td>Kelly, Mr. James</td>\n",
       "      <td>male</td>\n",
       "      <td>34.5</td>\n",
       "      <td>0</td>\n",
       "      <td>0</td>\n",
       "      <td>330911</td>\n",
       "      <td>7.8292</td>\n",
       "      <td>NaN</td>\n",
       "      <td>Q</td>\n",
       "    </tr>\n",
       "    <tr>\n",
       "      <th>1</th>\n",
       "      <td>893</td>\n",
       "      <td>1</td>\n",
       "      <td>3</td>\n",
       "      <td>Wilkes, Mrs. James (Ellen Needs)</td>\n",
       "      <td>female</td>\n",
       "      <td>47.0</td>\n",
       "      <td>1</td>\n",
       "      <td>0</td>\n",
       "      <td>363272</td>\n",
       "      <td>7.0000</td>\n",
       "      <td>NaN</td>\n",
       "      <td>S</td>\n",
       "    </tr>\n",
       "    <tr>\n",
       "      <th>2</th>\n",
       "      <td>894</td>\n",
       "      <td>0</td>\n",
       "      <td>2</td>\n",
       "      <td>Myles, Mr. Thomas Francis</td>\n",
       "      <td>male</td>\n",
       "      <td>62.0</td>\n",
       "      <td>0</td>\n",
       "      <td>0</td>\n",
       "      <td>240276</td>\n",
       "      <td>9.6875</td>\n",
       "      <td>NaN</td>\n",
       "      <td>Q</td>\n",
       "    </tr>\n",
       "    <tr>\n",
       "      <th>3</th>\n",
       "      <td>895</td>\n",
       "      <td>0</td>\n",
       "      <td>3</td>\n",
       "      <td>Wirz, Mr. Albert</td>\n",
       "      <td>male</td>\n",
       "      <td>27.0</td>\n",
       "      <td>0</td>\n",
       "      <td>0</td>\n",
       "      <td>315154</td>\n",
       "      <td>8.6625</td>\n",
       "      <td>NaN</td>\n",
       "      <td>S</td>\n",
       "    </tr>\n",
       "    <tr>\n",
       "      <th>4</th>\n",
       "      <td>896</td>\n",
       "      <td>1</td>\n",
       "      <td>3</td>\n",
       "      <td>Hirvonen, Mrs. Alexander (Helga E Lindqvist)</td>\n",
       "      <td>female</td>\n",
       "      <td>22.0</td>\n",
       "      <td>1</td>\n",
       "      <td>1</td>\n",
       "      <td>3101298</td>\n",
       "      <td>12.2875</td>\n",
       "      <td>NaN</td>\n",
       "      <td>S</td>\n",
       "    </tr>\n",
       "    <tr>\n",
       "      <th>...</th>\n",
       "      <td>...</td>\n",
       "      <td>...</td>\n",
       "      <td>...</td>\n",
       "      <td>...</td>\n",
       "      <td>...</td>\n",
       "      <td>...</td>\n",
       "      <td>...</td>\n",
       "      <td>...</td>\n",
       "      <td>...</td>\n",
       "      <td>...</td>\n",
       "      <td>...</td>\n",
       "      <td>...</td>\n",
       "    </tr>\n",
       "    <tr>\n",
       "      <th>413</th>\n",
       "      <td>1305</td>\n",
       "      <td>0</td>\n",
       "      <td>3</td>\n",
       "      <td>Spector, Mr. Woolf</td>\n",
       "      <td>male</td>\n",
       "      <td>NaN</td>\n",
       "      <td>0</td>\n",
       "      <td>0</td>\n",
       "      <td>A.5. 3236</td>\n",
       "      <td>8.0500</td>\n",
       "      <td>NaN</td>\n",
       "      <td>S</td>\n",
       "    </tr>\n",
       "    <tr>\n",
       "      <th>414</th>\n",
       "      <td>1306</td>\n",
       "      <td>1</td>\n",
       "      <td>1</td>\n",
       "      <td>Oliva y Ocana, Dona. Fermina</td>\n",
       "      <td>female</td>\n",
       "      <td>39.0</td>\n",
       "      <td>0</td>\n",
       "      <td>0</td>\n",
       "      <td>PC 17758</td>\n",
       "      <td>108.9000</td>\n",
       "      <td>C105</td>\n",
       "      <td>C</td>\n",
       "    </tr>\n",
       "    <tr>\n",
       "      <th>415</th>\n",
       "      <td>1307</td>\n",
       "      <td>0</td>\n",
       "      <td>3</td>\n",
       "      <td>Saether, Mr. Simon Sivertsen</td>\n",
       "      <td>male</td>\n",
       "      <td>38.5</td>\n",
       "      <td>0</td>\n",
       "      <td>0</td>\n",
       "      <td>SOTON/O.Q. 3101262</td>\n",
       "      <td>7.2500</td>\n",
       "      <td>NaN</td>\n",
       "      <td>S</td>\n",
       "    </tr>\n",
       "    <tr>\n",
       "      <th>416</th>\n",
       "      <td>1308</td>\n",
       "      <td>0</td>\n",
       "      <td>3</td>\n",
       "      <td>Ware, Mr. Frederick</td>\n",
       "      <td>male</td>\n",
       "      <td>NaN</td>\n",
       "      <td>0</td>\n",
       "      <td>0</td>\n",
       "      <td>359309</td>\n",
       "      <td>8.0500</td>\n",
       "      <td>NaN</td>\n",
       "      <td>S</td>\n",
       "    </tr>\n",
       "    <tr>\n",
       "      <th>417</th>\n",
       "      <td>1309</td>\n",
       "      <td>0</td>\n",
       "      <td>3</td>\n",
       "      <td>Peter, Master. Michael J</td>\n",
       "      <td>male</td>\n",
       "      <td>NaN</td>\n",
       "      <td>1</td>\n",
       "      <td>1</td>\n",
       "      <td>2668</td>\n",
       "      <td>22.3583</td>\n",
       "      <td>NaN</td>\n",
       "      <td>C</td>\n",
       "    </tr>\n",
       "  </tbody>\n",
       "</table>\n",
       "<p>418 rows × 12 columns</p>\n",
       "</div>"
      ]
     },
     "execution_count": 403,
     "metadata": {},
     "output_type": "execute_result"
    }
   ],
   "execution_count": 403
  },
  {
   "metadata": {},
   "cell_type": "markdown",
   "source": "1. Вивести перших 5 рядків.",
   "id": "c737b37af4c92a04"
  },
  {
   "metadata": {
    "ExecuteTime": {
     "end_time": "2024-08-18T15:35:39.265049Z",
     "start_time": "2024-08-18T15:35:39.253138Z"
    }
   },
   "cell_type": "code",
   "source": "titanic.head(5)",
   "id": "b0db23adf25bf1ef",
   "outputs": [
    {
     "data": {
      "text/plain": [
       "   PassengerId  Survived  Pclass  \\\n",
       "0          892         0       3   \n",
       "1          893         1       3   \n",
       "2          894         0       2   \n",
       "3          895         0       3   \n",
       "4          896         1       3   \n",
       "\n",
       "                                           Name     Sex   Age  SibSp  Parch  \\\n",
       "0                              Kelly, Mr. James    male  34.5      0      0   \n",
       "1              Wilkes, Mrs. James (Ellen Needs)  female  47.0      1      0   \n",
       "2                     Myles, Mr. Thomas Francis    male  62.0      0      0   \n",
       "3                              Wirz, Mr. Albert    male  27.0      0      0   \n",
       "4  Hirvonen, Mrs. Alexander (Helga E Lindqvist)  female  22.0      1      1   \n",
       "\n",
       "    Ticket     Fare Cabin Embarked  \n",
       "0   330911   7.8292   NaN        Q  \n",
       "1   363272   7.0000   NaN        S  \n",
       "2   240276   9.6875   NaN        Q  \n",
       "3   315154   8.6625   NaN        S  \n",
       "4  3101298  12.2875   NaN        S  "
      ],
      "text/html": [
       "<div>\n",
       "<style scoped>\n",
       "    .dataframe tbody tr th:only-of-type {\n",
       "        vertical-align: middle;\n",
       "    }\n",
       "\n",
       "    .dataframe tbody tr th {\n",
       "        vertical-align: top;\n",
       "    }\n",
       "\n",
       "    .dataframe thead th {\n",
       "        text-align: right;\n",
       "    }\n",
       "</style>\n",
       "<table border=\"1\" class=\"dataframe\">\n",
       "  <thead>\n",
       "    <tr style=\"text-align: right;\">\n",
       "      <th></th>\n",
       "      <th>PassengerId</th>\n",
       "      <th>Survived</th>\n",
       "      <th>Pclass</th>\n",
       "      <th>Name</th>\n",
       "      <th>Sex</th>\n",
       "      <th>Age</th>\n",
       "      <th>SibSp</th>\n",
       "      <th>Parch</th>\n",
       "      <th>Ticket</th>\n",
       "      <th>Fare</th>\n",
       "      <th>Cabin</th>\n",
       "      <th>Embarked</th>\n",
       "    </tr>\n",
       "  </thead>\n",
       "  <tbody>\n",
       "    <tr>\n",
       "      <th>0</th>\n",
       "      <td>892</td>\n",
       "      <td>0</td>\n",
       "      <td>3</td>\n",
       "      <td>Kelly, Mr. James</td>\n",
       "      <td>male</td>\n",
       "      <td>34.5</td>\n",
       "      <td>0</td>\n",
       "      <td>0</td>\n",
       "      <td>330911</td>\n",
       "      <td>7.8292</td>\n",
       "      <td>NaN</td>\n",
       "      <td>Q</td>\n",
       "    </tr>\n",
       "    <tr>\n",
       "      <th>1</th>\n",
       "      <td>893</td>\n",
       "      <td>1</td>\n",
       "      <td>3</td>\n",
       "      <td>Wilkes, Mrs. James (Ellen Needs)</td>\n",
       "      <td>female</td>\n",
       "      <td>47.0</td>\n",
       "      <td>1</td>\n",
       "      <td>0</td>\n",
       "      <td>363272</td>\n",
       "      <td>7.0000</td>\n",
       "      <td>NaN</td>\n",
       "      <td>S</td>\n",
       "    </tr>\n",
       "    <tr>\n",
       "      <th>2</th>\n",
       "      <td>894</td>\n",
       "      <td>0</td>\n",
       "      <td>2</td>\n",
       "      <td>Myles, Mr. Thomas Francis</td>\n",
       "      <td>male</td>\n",
       "      <td>62.0</td>\n",
       "      <td>0</td>\n",
       "      <td>0</td>\n",
       "      <td>240276</td>\n",
       "      <td>9.6875</td>\n",
       "      <td>NaN</td>\n",
       "      <td>Q</td>\n",
       "    </tr>\n",
       "    <tr>\n",
       "      <th>3</th>\n",
       "      <td>895</td>\n",
       "      <td>0</td>\n",
       "      <td>3</td>\n",
       "      <td>Wirz, Mr. Albert</td>\n",
       "      <td>male</td>\n",
       "      <td>27.0</td>\n",
       "      <td>0</td>\n",
       "      <td>0</td>\n",
       "      <td>315154</td>\n",
       "      <td>8.6625</td>\n",
       "      <td>NaN</td>\n",
       "      <td>S</td>\n",
       "    </tr>\n",
       "    <tr>\n",
       "      <th>4</th>\n",
       "      <td>896</td>\n",
       "      <td>1</td>\n",
       "      <td>3</td>\n",
       "      <td>Hirvonen, Mrs. Alexander (Helga E Lindqvist)</td>\n",
       "      <td>female</td>\n",
       "      <td>22.0</td>\n",
       "      <td>1</td>\n",
       "      <td>1</td>\n",
       "      <td>3101298</td>\n",
       "      <td>12.2875</td>\n",
       "      <td>NaN</td>\n",
       "      <td>S</td>\n",
       "    </tr>\n",
       "  </tbody>\n",
       "</table>\n",
       "</div>"
      ]
     },
     "execution_count": 404,
     "metadata": {},
     "output_type": "execute_result"
    }
   ],
   "execution_count": 404
  },
  {
   "metadata": {},
   "cell_type": "markdown",
   "source": "2. Визначити розмір датасета.",
   "id": "96f8b6b8c70e69fd"
  },
  {
   "metadata": {
    "ExecuteTime": {
     "end_time": "2024-08-18T15:35:39.338512Z",
     "start_time": "2024-08-18T15:35:39.333059Z"
    }
   },
   "cell_type": "code",
   "source": "titanic.shape",
   "id": "4ca04dc1a499fc74",
   "outputs": [
    {
     "data": {
      "text/plain": [
       "(418, 12)"
      ]
     },
     "execution_count": 405,
     "metadata": {},
     "output_type": "execute_result"
    }
   ],
   "execution_count": 405
  },
  {
   "metadata": {},
   "cell_type": "markdown",
   "source": "3. Визначити тип даних",
   "id": "a4b8d5e7fb6e18ad"
  },
  {
   "metadata": {
    "ExecuteTime": {
     "end_time": "2024-08-18T15:35:39.379648Z",
     "start_time": "2024-08-18T15:35:39.372517Z"
    }
   },
   "cell_type": "code",
   "source": "titanic.dtypes",
   "id": "9c1181870139d5cc",
   "outputs": [
    {
     "data": {
      "text/plain": [
       "PassengerId      int64\n",
       "Survived         int64\n",
       "Pclass           int64\n",
       "Name            object\n",
       "Sex             object\n",
       "Age            float64\n",
       "SibSp            int64\n",
       "Parch            int64\n",
       "Ticket          object\n",
       "Fare           float64\n",
       "Cabin           object\n",
       "Embarked        object\n",
       "dtype: object"
      ]
     },
     "execution_count": 406,
     "metadata": {},
     "output_type": "execute_result"
    }
   ],
   "execution_count": 406
  },
  {
   "metadata": {},
   "cell_type": "markdown",
   "source": "4. Визначити наявність пропущених значень. При наявності, замінити пропущені значення на середнє значення. ",
   "id": "562e1bad057f448"
  },
  {
   "metadata": {
    "ExecuteTime": {
     "end_time": "2024-08-18T15:35:39.574954Z",
     "start_time": "2024-08-18T15:35:39.567962Z"
    }
   },
   "cell_type": "code",
   "source": "titanic.isnull().sum()",
   "id": "11aa7e3665835d48",
   "outputs": [
    {
     "data": {
      "text/plain": [
       "PassengerId      0\n",
       "Survived         0\n",
       "Pclass           0\n",
       "Name             0\n",
       "Sex              0\n",
       "Age             86\n",
       "SibSp            0\n",
       "Parch            0\n",
       "Ticket           0\n",
       "Fare             1\n",
       "Cabin          327\n",
       "Embarked         0\n",
       "dtype: int64"
      ]
     },
     "execution_count": 407,
     "metadata": {},
     "output_type": "execute_result"
    }
   ],
   "execution_count": 407
  },
  {
   "metadata": {
    "ExecuteTime": {
     "end_time": "2024-08-18T15:35:39.665698Z",
     "start_time": "2024-08-18T15:35:39.656892Z"
    }
   },
   "cell_type": "code",
   "source": [
    "titanic.fillna({'Fare': titanic['Fare'].mean()}, inplace=True)\n",
    "titanic.fillna({'Age': titanic['Age'].mean()}, inplace=True)\n",
    "\n",
    "titanic.isnull().sum()"
   ],
   "id": "eba8b55f45607c1b",
   "outputs": [
    {
     "data": {
      "text/plain": [
       "PassengerId      0\n",
       "Survived         0\n",
       "Pclass           0\n",
       "Name             0\n",
       "Sex              0\n",
       "Age              0\n",
       "SibSp            0\n",
       "Parch            0\n",
       "Ticket           0\n",
       "Fare             0\n",
       "Cabin          327\n",
       "Embarked         0\n",
       "dtype: int64"
      ]
     },
     "execution_count": 408,
     "metadata": {},
     "output_type": "execute_result"
    }
   ],
   "execution_count": 408
  },
  {
   "metadata": {},
   "cell_type": "markdown",
   "source": "6. Перевірити наявність дублікатів. При наявності видалити дублікати.",
   "id": "d5aa87d3b67df2a8"
  },
  {
   "metadata": {
    "ExecuteTime": {
     "end_time": "2024-08-18T15:36:48.577930Z",
     "start_time": "2024-08-18T15:36:48.567700Z"
    }
   },
   "cell_type": "code",
   "source": "titanic.duplicated()",
   "id": "10c784149fb70020",
   "outputs": [
    {
     "data": {
      "text/plain": [
       "0      False\n",
       "1      False\n",
       "2      False\n",
       "3      False\n",
       "4      False\n",
       "       ...  \n",
       "413    False\n",
       "414    False\n",
       "415    False\n",
       "416    False\n",
       "417    False\n",
       "Length: 418, dtype: bool"
      ]
     },
     "execution_count": 409,
     "metadata": {},
     "output_type": "execute_result"
    }
   ],
   "execution_count": 409
  },
  {
   "metadata": {},
   "cell_type": "markdown",
   "source": "7. Вивести описову статистику датасету describe()",
   "id": "4b7adabb3815bc42"
  },
  {
   "metadata": {
    "ExecuteTime": {
     "end_time": "2024-08-18T15:38:58.565437Z",
     "start_time": "2024-08-18T15:38:58.543036Z"
    }
   },
   "cell_type": "code",
   "source": "titanic.describe()",
   "id": "17081951a804d553",
   "outputs": [
    {
     "data": {
      "text/plain": [
       "       PassengerId    Survived      Pclass         Age       SibSp  \\\n",
       "count   418.000000  418.000000  418.000000  418.000000  418.000000   \n",
       "mean   1100.500000    0.363636    2.265550   30.272590    0.447368   \n",
       "std     120.810458    0.481622    0.841838   12.634534    0.896760   \n",
       "min     892.000000    0.000000    1.000000    0.170000    0.000000   \n",
       "25%     996.250000    0.000000    1.000000   23.000000    0.000000   \n",
       "50%    1100.500000    0.000000    3.000000   30.272590    0.000000   \n",
       "75%    1204.750000    1.000000    3.000000   35.750000    1.000000   \n",
       "max    1309.000000    1.000000    3.000000   76.000000    8.000000   \n",
       "\n",
       "            Parch        Fare  \n",
       "count  418.000000  418.000000  \n",
       "mean     0.392344   35.627188  \n",
       "std      0.981429   55.840500  \n",
       "min      0.000000    0.000000  \n",
       "25%      0.000000    7.895800  \n",
       "50%      0.000000   14.454200  \n",
       "75%      0.000000   31.500000  \n",
       "max      9.000000  512.329200  "
      ],
      "text/html": [
       "<div>\n",
       "<style scoped>\n",
       "    .dataframe tbody tr th:only-of-type {\n",
       "        vertical-align: middle;\n",
       "    }\n",
       "\n",
       "    .dataframe tbody tr th {\n",
       "        vertical-align: top;\n",
       "    }\n",
       "\n",
       "    .dataframe thead th {\n",
       "        text-align: right;\n",
       "    }\n",
       "</style>\n",
       "<table border=\"1\" class=\"dataframe\">\n",
       "  <thead>\n",
       "    <tr style=\"text-align: right;\">\n",
       "      <th></th>\n",
       "      <th>PassengerId</th>\n",
       "      <th>Survived</th>\n",
       "      <th>Pclass</th>\n",
       "      <th>Age</th>\n",
       "      <th>SibSp</th>\n",
       "      <th>Parch</th>\n",
       "      <th>Fare</th>\n",
       "    </tr>\n",
       "  </thead>\n",
       "  <tbody>\n",
       "    <tr>\n",
       "      <th>count</th>\n",
       "      <td>418.000000</td>\n",
       "      <td>418.000000</td>\n",
       "      <td>418.000000</td>\n",
       "      <td>418.000000</td>\n",
       "      <td>418.000000</td>\n",
       "      <td>418.000000</td>\n",
       "      <td>418.000000</td>\n",
       "    </tr>\n",
       "    <tr>\n",
       "      <th>mean</th>\n",
       "      <td>1100.500000</td>\n",
       "      <td>0.363636</td>\n",
       "      <td>2.265550</td>\n",
       "      <td>30.272590</td>\n",
       "      <td>0.447368</td>\n",
       "      <td>0.392344</td>\n",
       "      <td>35.627188</td>\n",
       "    </tr>\n",
       "    <tr>\n",
       "      <th>std</th>\n",
       "      <td>120.810458</td>\n",
       "      <td>0.481622</td>\n",
       "      <td>0.841838</td>\n",
       "      <td>12.634534</td>\n",
       "      <td>0.896760</td>\n",
       "      <td>0.981429</td>\n",
       "      <td>55.840500</td>\n",
       "    </tr>\n",
       "    <tr>\n",
       "      <th>min</th>\n",
       "      <td>892.000000</td>\n",
       "      <td>0.000000</td>\n",
       "      <td>1.000000</td>\n",
       "      <td>0.170000</td>\n",
       "      <td>0.000000</td>\n",
       "      <td>0.000000</td>\n",
       "      <td>0.000000</td>\n",
       "    </tr>\n",
       "    <tr>\n",
       "      <th>25%</th>\n",
       "      <td>996.250000</td>\n",
       "      <td>0.000000</td>\n",
       "      <td>1.000000</td>\n",
       "      <td>23.000000</td>\n",
       "      <td>0.000000</td>\n",
       "      <td>0.000000</td>\n",
       "      <td>7.895800</td>\n",
       "    </tr>\n",
       "    <tr>\n",
       "      <th>50%</th>\n",
       "      <td>1100.500000</td>\n",
       "      <td>0.000000</td>\n",
       "      <td>3.000000</td>\n",
       "      <td>30.272590</td>\n",
       "      <td>0.000000</td>\n",
       "      <td>0.000000</td>\n",
       "      <td>14.454200</td>\n",
       "    </tr>\n",
       "    <tr>\n",
       "      <th>75%</th>\n",
       "      <td>1204.750000</td>\n",
       "      <td>1.000000</td>\n",
       "      <td>3.000000</td>\n",
       "      <td>35.750000</td>\n",
       "      <td>1.000000</td>\n",
       "      <td>0.000000</td>\n",
       "      <td>31.500000</td>\n",
       "    </tr>\n",
       "    <tr>\n",
       "      <th>max</th>\n",
       "      <td>1309.000000</td>\n",
       "      <td>1.000000</td>\n",
       "      <td>3.000000</td>\n",
       "      <td>76.000000</td>\n",
       "      <td>8.000000</td>\n",
       "      <td>9.000000</td>\n",
       "      <td>512.329200</td>\n",
       "    </tr>\n",
       "  </tbody>\n",
       "</table>\n",
       "</div>"
      ]
     },
     "execution_count": 410,
     "metadata": {},
     "output_type": "execute_result"
    }
   ],
   "execution_count": 410
  },
  {
   "metadata": {},
   "cell_type": "markdown",
   "source": "8. Видалити стовпчик Cabin",
   "id": "d245956638c8fb2c"
  },
  {
   "metadata": {
    "ExecuteTime": {
     "end_time": "2024-08-18T15:40:35.236751Z",
     "start_time": "2024-08-18T15:40:35.223875Z"
    }
   },
   "cell_type": "code",
   "source": [
    "titanic = titanic.drop(columns='Cabin')\n",
    "titanic"
   ],
   "id": "2e6b8eb098d1cc85",
   "outputs": [
    {
     "data": {
      "text/plain": [
       "     PassengerId  Survived  Pclass  \\\n",
       "0            892         0       3   \n",
       "1            893         1       3   \n",
       "2            894         0       2   \n",
       "3            895         0       3   \n",
       "4            896         1       3   \n",
       "..           ...       ...     ...   \n",
       "413         1305         0       3   \n",
       "414         1306         1       1   \n",
       "415         1307         0       3   \n",
       "416         1308         0       3   \n",
       "417         1309         0       3   \n",
       "\n",
       "                                             Name     Sex       Age  SibSp  \\\n",
       "0                                Kelly, Mr. James    male  34.50000      0   \n",
       "1                Wilkes, Mrs. James (Ellen Needs)  female  47.00000      1   \n",
       "2                       Myles, Mr. Thomas Francis    male  62.00000      0   \n",
       "3                                Wirz, Mr. Albert    male  27.00000      0   \n",
       "4    Hirvonen, Mrs. Alexander (Helga E Lindqvist)  female  22.00000      1   \n",
       "..                                            ...     ...       ...    ...   \n",
       "413                            Spector, Mr. Woolf    male  30.27259      0   \n",
       "414                  Oliva y Ocana, Dona. Fermina  female  39.00000      0   \n",
       "415                  Saether, Mr. Simon Sivertsen    male  38.50000      0   \n",
       "416                           Ware, Mr. Frederick    male  30.27259      0   \n",
       "417                      Peter, Master. Michael J    male  30.27259      1   \n",
       "\n",
       "     Parch              Ticket      Fare Embarked  \n",
       "0        0              330911    7.8292        Q  \n",
       "1        0              363272    7.0000        S  \n",
       "2        0              240276    9.6875        Q  \n",
       "3        0              315154    8.6625        S  \n",
       "4        1             3101298   12.2875        S  \n",
       "..     ...                 ...       ...      ...  \n",
       "413      0           A.5. 3236    8.0500        S  \n",
       "414      0            PC 17758  108.9000        C  \n",
       "415      0  SOTON/O.Q. 3101262    7.2500        S  \n",
       "416      0              359309    8.0500        S  \n",
       "417      1                2668   22.3583        C  \n",
       "\n",
       "[418 rows x 11 columns]"
      ],
      "text/html": [
       "<div>\n",
       "<style scoped>\n",
       "    .dataframe tbody tr th:only-of-type {\n",
       "        vertical-align: middle;\n",
       "    }\n",
       "\n",
       "    .dataframe tbody tr th {\n",
       "        vertical-align: top;\n",
       "    }\n",
       "\n",
       "    .dataframe thead th {\n",
       "        text-align: right;\n",
       "    }\n",
       "</style>\n",
       "<table border=\"1\" class=\"dataframe\">\n",
       "  <thead>\n",
       "    <tr style=\"text-align: right;\">\n",
       "      <th></th>\n",
       "      <th>PassengerId</th>\n",
       "      <th>Survived</th>\n",
       "      <th>Pclass</th>\n",
       "      <th>Name</th>\n",
       "      <th>Sex</th>\n",
       "      <th>Age</th>\n",
       "      <th>SibSp</th>\n",
       "      <th>Parch</th>\n",
       "      <th>Ticket</th>\n",
       "      <th>Fare</th>\n",
       "      <th>Embarked</th>\n",
       "    </tr>\n",
       "  </thead>\n",
       "  <tbody>\n",
       "    <tr>\n",
       "      <th>0</th>\n",
       "      <td>892</td>\n",
       "      <td>0</td>\n",
       "      <td>3</td>\n",
       "      <td>Kelly, Mr. James</td>\n",
       "      <td>male</td>\n",
       "      <td>34.50000</td>\n",
       "      <td>0</td>\n",
       "      <td>0</td>\n",
       "      <td>330911</td>\n",
       "      <td>7.8292</td>\n",
       "      <td>Q</td>\n",
       "    </tr>\n",
       "    <tr>\n",
       "      <th>1</th>\n",
       "      <td>893</td>\n",
       "      <td>1</td>\n",
       "      <td>3</td>\n",
       "      <td>Wilkes, Mrs. James (Ellen Needs)</td>\n",
       "      <td>female</td>\n",
       "      <td>47.00000</td>\n",
       "      <td>1</td>\n",
       "      <td>0</td>\n",
       "      <td>363272</td>\n",
       "      <td>7.0000</td>\n",
       "      <td>S</td>\n",
       "    </tr>\n",
       "    <tr>\n",
       "      <th>2</th>\n",
       "      <td>894</td>\n",
       "      <td>0</td>\n",
       "      <td>2</td>\n",
       "      <td>Myles, Mr. Thomas Francis</td>\n",
       "      <td>male</td>\n",
       "      <td>62.00000</td>\n",
       "      <td>0</td>\n",
       "      <td>0</td>\n",
       "      <td>240276</td>\n",
       "      <td>9.6875</td>\n",
       "      <td>Q</td>\n",
       "    </tr>\n",
       "    <tr>\n",
       "      <th>3</th>\n",
       "      <td>895</td>\n",
       "      <td>0</td>\n",
       "      <td>3</td>\n",
       "      <td>Wirz, Mr. Albert</td>\n",
       "      <td>male</td>\n",
       "      <td>27.00000</td>\n",
       "      <td>0</td>\n",
       "      <td>0</td>\n",
       "      <td>315154</td>\n",
       "      <td>8.6625</td>\n",
       "      <td>S</td>\n",
       "    </tr>\n",
       "    <tr>\n",
       "      <th>4</th>\n",
       "      <td>896</td>\n",
       "      <td>1</td>\n",
       "      <td>3</td>\n",
       "      <td>Hirvonen, Mrs. Alexander (Helga E Lindqvist)</td>\n",
       "      <td>female</td>\n",
       "      <td>22.00000</td>\n",
       "      <td>1</td>\n",
       "      <td>1</td>\n",
       "      <td>3101298</td>\n",
       "      <td>12.2875</td>\n",
       "      <td>S</td>\n",
       "    </tr>\n",
       "    <tr>\n",
       "      <th>...</th>\n",
       "      <td>...</td>\n",
       "      <td>...</td>\n",
       "      <td>...</td>\n",
       "      <td>...</td>\n",
       "      <td>...</td>\n",
       "      <td>...</td>\n",
       "      <td>...</td>\n",
       "      <td>...</td>\n",
       "      <td>...</td>\n",
       "      <td>...</td>\n",
       "      <td>...</td>\n",
       "    </tr>\n",
       "    <tr>\n",
       "      <th>413</th>\n",
       "      <td>1305</td>\n",
       "      <td>0</td>\n",
       "      <td>3</td>\n",
       "      <td>Spector, Mr. Woolf</td>\n",
       "      <td>male</td>\n",
       "      <td>30.27259</td>\n",
       "      <td>0</td>\n",
       "      <td>0</td>\n",
       "      <td>A.5. 3236</td>\n",
       "      <td>8.0500</td>\n",
       "      <td>S</td>\n",
       "    </tr>\n",
       "    <tr>\n",
       "      <th>414</th>\n",
       "      <td>1306</td>\n",
       "      <td>1</td>\n",
       "      <td>1</td>\n",
       "      <td>Oliva y Ocana, Dona. Fermina</td>\n",
       "      <td>female</td>\n",
       "      <td>39.00000</td>\n",
       "      <td>0</td>\n",
       "      <td>0</td>\n",
       "      <td>PC 17758</td>\n",
       "      <td>108.9000</td>\n",
       "      <td>C</td>\n",
       "    </tr>\n",
       "    <tr>\n",
       "      <th>415</th>\n",
       "      <td>1307</td>\n",
       "      <td>0</td>\n",
       "      <td>3</td>\n",
       "      <td>Saether, Mr. Simon Sivertsen</td>\n",
       "      <td>male</td>\n",
       "      <td>38.50000</td>\n",
       "      <td>0</td>\n",
       "      <td>0</td>\n",
       "      <td>SOTON/O.Q. 3101262</td>\n",
       "      <td>7.2500</td>\n",
       "      <td>S</td>\n",
       "    </tr>\n",
       "    <tr>\n",
       "      <th>416</th>\n",
       "      <td>1308</td>\n",
       "      <td>0</td>\n",
       "      <td>3</td>\n",
       "      <td>Ware, Mr. Frederick</td>\n",
       "      <td>male</td>\n",
       "      <td>30.27259</td>\n",
       "      <td>0</td>\n",
       "      <td>0</td>\n",
       "      <td>359309</td>\n",
       "      <td>8.0500</td>\n",
       "      <td>S</td>\n",
       "    </tr>\n",
       "    <tr>\n",
       "      <th>417</th>\n",
       "      <td>1309</td>\n",
       "      <td>0</td>\n",
       "      <td>3</td>\n",
       "      <td>Peter, Master. Michael J</td>\n",
       "      <td>male</td>\n",
       "      <td>30.27259</td>\n",
       "      <td>1</td>\n",
       "      <td>1</td>\n",
       "      <td>2668</td>\n",
       "      <td>22.3583</td>\n",
       "      <td>C</td>\n",
       "    </tr>\n",
       "  </tbody>\n",
       "</table>\n",
       "<p>418 rows × 11 columns</p>\n",
       "</div>"
      ]
     },
     "execution_count": 411,
     "metadata": {},
     "output_type": "execute_result"
    }
   ],
   "execution_count": 411
  },
  {
   "metadata": {},
   "cell_type": "markdown",
   "source": [
    "9. Сформувати датасет з обраними стовпцями: \n",
    "['Survived', 'Pclass', 'Sex', 'Age', 'Fare']]\n"
   ],
   "id": "26a9e51bea065793"
  },
  {
   "metadata": {
    "ExecuteTime": {
     "end_time": "2024-08-18T15:42:28.916560Z",
     "start_time": "2024-08-18T15:42:28.906208Z"
    }
   },
   "cell_type": "code",
   "source": [
    "selected_titanic = titanic[['Survived', 'Pclass', 'Sex', 'Age', 'Fare']]\n",
    "selected_titanic"
   ],
   "id": "c20ff6e5f8f0c278",
   "outputs": [
    {
     "data": {
      "text/plain": [
       "     Survived  Pclass     Sex       Age      Fare\n",
       "0           0       3    male  34.50000    7.8292\n",
       "1           1       3  female  47.00000    7.0000\n",
       "2           0       2    male  62.00000    9.6875\n",
       "3           0       3    male  27.00000    8.6625\n",
       "4           1       3  female  22.00000   12.2875\n",
       "..        ...     ...     ...       ...       ...\n",
       "413         0       3    male  30.27259    8.0500\n",
       "414         1       1  female  39.00000  108.9000\n",
       "415         0       3    male  38.50000    7.2500\n",
       "416         0       3    male  30.27259    8.0500\n",
       "417         0       3    male  30.27259   22.3583\n",
       "\n",
       "[418 rows x 5 columns]"
      ],
      "text/html": [
       "<div>\n",
       "<style scoped>\n",
       "    .dataframe tbody tr th:only-of-type {\n",
       "        vertical-align: middle;\n",
       "    }\n",
       "\n",
       "    .dataframe tbody tr th {\n",
       "        vertical-align: top;\n",
       "    }\n",
       "\n",
       "    .dataframe thead th {\n",
       "        text-align: right;\n",
       "    }\n",
       "</style>\n",
       "<table border=\"1\" class=\"dataframe\">\n",
       "  <thead>\n",
       "    <tr style=\"text-align: right;\">\n",
       "      <th></th>\n",
       "      <th>Survived</th>\n",
       "      <th>Pclass</th>\n",
       "      <th>Sex</th>\n",
       "      <th>Age</th>\n",
       "      <th>Fare</th>\n",
       "    </tr>\n",
       "  </thead>\n",
       "  <tbody>\n",
       "    <tr>\n",
       "      <th>0</th>\n",
       "      <td>0</td>\n",
       "      <td>3</td>\n",
       "      <td>male</td>\n",
       "      <td>34.50000</td>\n",
       "      <td>7.8292</td>\n",
       "    </tr>\n",
       "    <tr>\n",
       "      <th>1</th>\n",
       "      <td>1</td>\n",
       "      <td>3</td>\n",
       "      <td>female</td>\n",
       "      <td>47.00000</td>\n",
       "      <td>7.0000</td>\n",
       "    </tr>\n",
       "    <tr>\n",
       "      <th>2</th>\n",
       "      <td>0</td>\n",
       "      <td>2</td>\n",
       "      <td>male</td>\n",
       "      <td>62.00000</td>\n",
       "      <td>9.6875</td>\n",
       "    </tr>\n",
       "    <tr>\n",
       "      <th>3</th>\n",
       "      <td>0</td>\n",
       "      <td>3</td>\n",
       "      <td>male</td>\n",
       "      <td>27.00000</td>\n",
       "      <td>8.6625</td>\n",
       "    </tr>\n",
       "    <tr>\n",
       "      <th>4</th>\n",
       "      <td>1</td>\n",
       "      <td>3</td>\n",
       "      <td>female</td>\n",
       "      <td>22.00000</td>\n",
       "      <td>12.2875</td>\n",
       "    </tr>\n",
       "    <tr>\n",
       "      <th>...</th>\n",
       "      <td>...</td>\n",
       "      <td>...</td>\n",
       "      <td>...</td>\n",
       "      <td>...</td>\n",
       "      <td>...</td>\n",
       "    </tr>\n",
       "    <tr>\n",
       "      <th>413</th>\n",
       "      <td>0</td>\n",
       "      <td>3</td>\n",
       "      <td>male</td>\n",
       "      <td>30.27259</td>\n",
       "      <td>8.0500</td>\n",
       "    </tr>\n",
       "    <tr>\n",
       "      <th>414</th>\n",
       "      <td>1</td>\n",
       "      <td>1</td>\n",
       "      <td>female</td>\n",
       "      <td>39.00000</td>\n",
       "      <td>108.9000</td>\n",
       "    </tr>\n",
       "    <tr>\n",
       "      <th>415</th>\n",
       "      <td>0</td>\n",
       "      <td>3</td>\n",
       "      <td>male</td>\n",
       "      <td>38.50000</td>\n",
       "      <td>7.2500</td>\n",
       "    </tr>\n",
       "    <tr>\n",
       "      <th>416</th>\n",
       "      <td>0</td>\n",
       "      <td>3</td>\n",
       "      <td>male</td>\n",
       "      <td>30.27259</td>\n",
       "      <td>8.0500</td>\n",
       "    </tr>\n",
       "    <tr>\n",
       "      <th>417</th>\n",
       "      <td>0</td>\n",
       "      <td>3</td>\n",
       "      <td>male</td>\n",
       "      <td>30.27259</td>\n",
       "      <td>22.3583</td>\n",
       "    </tr>\n",
       "  </tbody>\n",
       "</table>\n",
       "<p>418 rows × 5 columns</p>\n",
       "</div>"
      ]
     },
     "execution_count": 412,
     "metadata": {},
     "output_type": "execute_result"
    }
   ],
   "execution_count": 412
  },
  {
   "metadata": {},
   "cell_type": "markdown",
   "source": "10.Замінити бінарні ознаки (Стать) на 0 і 1 (але перевірте унікальні значення даного стовпчика)",
   "id": "aed7261a60ac79fe"
  },
  {
   "metadata": {
    "ExecuteTime": {
     "end_time": "2024-08-18T15:46:34.323645Z",
     "start_time": "2024-08-18T15:46:34.317452Z"
    }
   },
   "cell_type": "code",
   "source": "selected_titanic['Sex'].unique()",
   "id": "edd71f3061c9de3e",
   "outputs": [
    {
     "data": {
      "text/plain": [
       "array(['male', 'female'], dtype=object)"
      ]
     },
     "execution_count": 413,
     "metadata": {},
     "output_type": "execute_result"
    }
   ],
   "execution_count": 413
  },
  {
   "metadata": {
    "ExecuteTime": {
     "end_time": "2024-08-18T15:47:07.251608Z",
     "start_time": "2024-08-18T15:47:07.240499Z"
    }
   },
   "cell_type": "code",
   "source": [
    "selected_titanic['Sex'] = selected_titanic['Sex'].replace({'female': 1, 'male': 0}).astype(int)\n",
    "selected_titanic"
   ],
   "id": "811109daecfbb4eb",
   "outputs": [
    {
     "name": "stderr",
     "output_type": "stream",
     "text": [
      "C:\\Users\\Иван\\AppData\\Local\\Temp\\ipykernel_20016\\615169743.py:1: FutureWarning: Downcasting behavior in `replace` is deprecated and will be removed in a future version. To retain the old behavior, explicitly call `result.infer_objects(copy=False)`. To opt-in to the future behavior, set `pd.set_option('future.no_silent_downcasting', True)`\n",
      "  selected_titanic['Sex'] = selected_titanic['Sex'].replace({'female': 1, 'male': 0}).astype(int)\n",
      "C:\\Users\\Иван\\AppData\\Local\\Temp\\ipykernel_20016\\615169743.py:1: SettingWithCopyWarning: \n",
      "A value is trying to be set on a copy of a slice from a DataFrame.\n",
      "Try using .loc[row_indexer,col_indexer] = value instead\n",
      "\n",
      "See the caveats in the documentation: https://pandas.pydata.org/pandas-docs/stable/user_guide/indexing.html#returning-a-view-versus-a-copy\n",
      "  selected_titanic['Sex'] = selected_titanic['Sex'].replace({'female': 1, 'male': 0}).astype(int)\n"
     ]
    },
    {
     "data": {
      "text/plain": [
       "     Survived  Pclass  Sex       Age      Fare\n",
       "0           0       3    0  34.50000    7.8292\n",
       "1           1       3    1  47.00000    7.0000\n",
       "2           0       2    0  62.00000    9.6875\n",
       "3           0       3    0  27.00000    8.6625\n",
       "4           1       3    1  22.00000   12.2875\n",
       "..        ...     ...  ...       ...       ...\n",
       "413         0       3    0  30.27259    8.0500\n",
       "414         1       1    1  39.00000  108.9000\n",
       "415         0       3    0  38.50000    7.2500\n",
       "416         0       3    0  30.27259    8.0500\n",
       "417         0       3    0  30.27259   22.3583\n",
       "\n",
       "[418 rows x 5 columns]"
      ],
      "text/html": [
       "<div>\n",
       "<style scoped>\n",
       "    .dataframe tbody tr th:only-of-type {\n",
       "        vertical-align: middle;\n",
       "    }\n",
       "\n",
       "    .dataframe tbody tr th {\n",
       "        vertical-align: top;\n",
       "    }\n",
       "\n",
       "    .dataframe thead th {\n",
       "        text-align: right;\n",
       "    }\n",
       "</style>\n",
       "<table border=\"1\" class=\"dataframe\">\n",
       "  <thead>\n",
       "    <tr style=\"text-align: right;\">\n",
       "      <th></th>\n",
       "      <th>Survived</th>\n",
       "      <th>Pclass</th>\n",
       "      <th>Sex</th>\n",
       "      <th>Age</th>\n",
       "      <th>Fare</th>\n",
       "    </tr>\n",
       "  </thead>\n",
       "  <tbody>\n",
       "    <tr>\n",
       "      <th>0</th>\n",
       "      <td>0</td>\n",
       "      <td>3</td>\n",
       "      <td>0</td>\n",
       "      <td>34.50000</td>\n",
       "      <td>7.8292</td>\n",
       "    </tr>\n",
       "    <tr>\n",
       "      <th>1</th>\n",
       "      <td>1</td>\n",
       "      <td>3</td>\n",
       "      <td>1</td>\n",
       "      <td>47.00000</td>\n",
       "      <td>7.0000</td>\n",
       "    </tr>\n",
       "    <tr>\n",
       "      <th>2</th>\n",
       "      <td>0</td>\n",
       "      <td>2</td>\n",
       "      <td>0</td>\n",
       "      <td>62.00000</td>\n",
       "      <td>9.6875</td>\n",
       "    </tr>\n",
       "    <tr>\n",
       "      <th>3</th>\n",
       "      <td>0</td>\n",
       "      <td>3</td>\n",
       "      <td>0</td>\n",
       "      <td>27.00000</td>\n",
       "      <td>8.6625</td>\n",
       "    </tr>\n",
       "    <tr>\n",
       "      <th>4</th>\n",
       "      <td>1</td>\n",
       "      <td>3</td>\n",
       "      <td>1</td>\n",
       "      <td>22.00000</td>\n",
       "      <td>12.2875</td>\n",
       "    </tr>\n",
       "    <tr>\n",
       "      <th>...</th>\n",
       "      <td>...</td>\n",
       "      <td>...</td>\n",
       "      <td>...</td>\n",
       "      <td>...</td>\n",
       "      <td>...</td>\n",
       "    </tr>\n",
       "    <tr>\n",
       "      <th>413</th>\n",
       "      <td>0</td>\n",
       "      <td>3</td>\n",
       "      <td>0</td>\n",
       "      <td>30.27259</td>\n",
       "      <td>8.0500</td>\n",
       "    </tr>\n",
       "    <tr>\n",
       "      <th>414</th>\n",
       "      <td>1</td>\n",
       "      <td>1</td>\n",
       "      <td>1</td>\n",
       "      <td>39.00000</td>\n",
       "      <td>108.9000</td>\n",
       "    </tr>\n",
       "    <tr>\n",
       "      <th>415</th>\n",
       "      <td>0</td>\n",
       "      <td>3</td>\n",
       "      <td>0</td>\n",
       "      <td>38.50000</td>\n",
       "      <td>7.2500</td>\n",
       "    </tr>\n",
       "    <tr>\n",
       "      <th>416</th>\n",
       "      <td>0</td>\n",
       "      <td>3</td>\n",
       "      <td>0</td>\n",
       "      <td>30.27259</td>\n",
       "      <td>8.0500</td>\n",
       "    </tr>\n",
       "    <tr>\n",
       "      <th>417</th>\n",
       "      <td>0</td>\n",
       "      <td>3</td>\n",
       "      <td>0</td>\n",
       "      <td>30.27259</td>\n",
       "      <td>22.3583</td>\n",
       "    </tr>\n",
       "  </tbody>\n",
       "</table>\n",
       "<p>418 rows × 5 columns</p>\n",
       "</div>"
      ]
     },
     "execution_count": 414,
     "metadata": {},
     "output_type": "execute_result"
    }
   ],
   "execution_count": 414
  },
  {
   "metadata": {},
   "cell_type": "markdown",
   "source": "11. Ще раз перевірити кількість пропущених даних (впевнитись, що їх немає).",
   "id": "13d338c32b05aa40"
  },
  {
   "metadata": {
    "ExecuteTime": {
     "end_time": "2024-08-18T15:59:34.785888Z",
     "start_time": "2024-08-18T15:59:34.778886Z"
    }
   },
   "cell_type": "code",
   "source": "selected_titanic.isnull().sum()",
   "id": "13b9d6d705c265be",
   "outputs": [
    {
     "data": {
      "text/plain": [
       "Survived    0\n",
       "Pclass      0\n",
       "Sex         0\n",
       "Age         0\n",
       "Fare        0\n",
       "dtype: int64"
      ]
     },
     "execution_count": 417,
     "metadata": {},
     "output_type": "execute_result"
    }
   ],
   "execution_count": 417
  },
  {
   "metadata": {},
   "cell_type": "markdown",
   "source": "12. Вивести 5 перших рядків датасету.",
   "id": "b4b685785007f06d"
  },
  {
   "metadata": {
    "ExecuteTime": {
     "end_time": "2024-08-18T16:00:05.305667Z",
     "start_time": "2024-08-18T16:00:05.296844Z"
    }
   },
   "cell_type": "code",
   "source": "selected_titanic.head(5)",
   "id": "59705175614bb37c",
   "outputs": [
    {
     "data": {
      "text/plain": [
       "   Survived  Pclass  Sex   Age     Fare\n",
       "0         0       3    0  34.5   7.8292\n",
       "1         1       3    1  47.0   7.0000\n",
       "2         0       2    0  62.0   9.6875\n",
       "3         0       3    0  27.0   8.6625\n",
       "4         1       3    1  22.0  12.2875"
      ],
      "text/html": [
       "<div>\n",
       "<style scoped>\n",
       "    .dataframe tbody tr th:only-of-type {\n",
       "        vertical-align: middle;\n",
       "    }\n",
       "\n",
       "    .dataframe tbody tr th {\n",
       "        vertical-align: top;\n",
       "    }\n",
       "\n",
       "    .dataframe thead th {\n",
       "        text-align: right;\n",
       "    }\n",
       "</style>\n",
       "<table border=\"1\" class=\"dataframe\">\n",
       "  <thead>\n",
       "    <tr style=\"text-align: right;\">\n",
       "      <th></th>\n",
       "      <th>Survived</th>\n",
       "      <th>Pclass</th>\n",
       "      <th>Sex</th>\n",
       "      <th>Age</th>\n",
       "      <th>Fare</th>\n",
       "    </tr>\n",
       "  </thead>\n",
       "  <tbody>\n",
       "    <tr>\n",
       "      <th>0</th>\n",
       "      <td>0</td>\n",
       "      <td>3</td>\n",
       "      <td>0</td>\n",
       "      <td>34.5</td>\n",
       "      <td>7.8292</td>\n",
       "    </tr>\n",
       "    <tr>\n",
       "      <th>1</th>\n",
       "      <td>1</td>\n",
       "      <td>3</td>\n",
       "      <td>1</td>\n",
       "      <td>47.0</td>\n",
       "      <td>7.0000</td>\n",
       "    </tr>\n",
       "    <tr>\n",
       "      <th>2</th>\n",
       "      <td>0</td>\n",
       "      <td>2</td>\n",
       "      <td>0</td>\n",
       "      <td>62.0</td>\n",
       "      <td>9.6875</td>\n",
       "    </tr>\n",
       "    <tr>\n",
       "      <th>3</th>\n",
       "      <td>0</td>\n",
       "      <td>3</td>\n",
       "      <td>0</td>\n",
       "      <td>27.0</td>\n",
       "      <td>8.6625</td>\n",
       "    </tr>\n",
       "    <tr>\n",
       "      <th>4</th>\n",
       "      <td>1</td>\n",
       "      <td>3</td>\n",
       "      <td>1</td>\n",
       "      <td>22.0</td>\n",
       "      <td>12.2875</td>\n",
       "    </tr>\n",
       "  </tbody>\n",
       "</table>\n",
       "</div>"
      ]
     },
     "execution_count": 418,
     "metadata": {},
     "output_type": "execute_result"
    }
   ],
   "execution_count": 418
  },
  {
   "metadata": {},
   "cell_type": "markdown",
   "source": "13. Вивести 5 останніх рядків датасету.",
   "id": "e6a522b5bc08eb43"
  },
  {
   "metadata": {
    "ExecuteTime": {
     "end_time": "2024-08-18T16:00:25.533556Z",
     "start_time": "2024-08-18T16:00:25.525808Z"
    }
   },
   "cell_type": "code",
   "source": "selected_titanic.tail(5)",
   "id": "6dabc1bd4385e0b6",
   "outputs": [
    {
     "data": {
      "text/plain": [
       "     Survived  Pclass  Sex       Age      Fare\n",
       "413         0       3    0  30.27259    8.0500\n",
       "414         1       1    1  39.00000  108.9000\n",
       "415         0       3    0  38.50000    7.2500\n",
       "416         0       3    0  30.27259    8.0500\n",
       "417         0       3    0  30.27259   22.3583"
      ],
      "text/html": [
       "<div>\n",
       "<style scoped>\n",
       "    .dataframe tbody tr th:only-of-type {\n",
       "        vertical-align: middle;\n",
       "    }\n",
       "\n",
       "    .dataframe tbody tr th {\n",
       "        vertical-align: top;\n",
       "    }\n",
       "\n",
       "    .dataframe thead th {\n",
       "        text-align: right;\n",
       "    }\n",
       "</style>\n",
       "<table border=\"1\" class=\"dataframe\">\n",
       "  <thead>\n",
       "    <tr style=\"text-align: right;\">\n",
       "      <th></th>\n",
       "      <th>Survived</th>\n",
       "      <th>Pclass</th>\n",
       "      <th>Sex</th>\n",
       "      <th>Age</th>\n",
       "      <th>Fare</th>\n",
       "    </tr>\n",
       "  </thead>\n",
       "  <tbody>\n",
       "    <tr>\n",
       "      <th>413</th>\n",
       "      <td>0</td>\n",
       "      <td>3</td>\n",
       "      <td>0</td>\n",
       "      <td>30.27259</td>\n",
       "      <td>8.0500</td>\n",
       "    </tr>\n",
       "    <tr>\n",
       "      <th>414</th>\n",
       "      <td>1</td>\n",
       "      <td>1</td>\n",
       "      <td>1</td>\n",
       "      <td>39.00000</td>\n",
       "      <td>108.9000</td>\n",
       "    </tr>\n",
       "    <tr>\n",
       "      <th>415</th>\n",
       "      <td>0</td>\n",
       "      <td>3</td>\n",
       "      <td>0</td>\n",
       "      <td>38.50000</td>\n",
       "      <td>7.2500</td>\n",
       "    </tr>\n",
       "    <tr>\n",
       "      <th>416</th>\n",
       "      <td>0</td>\n",
       "      <td>3</td>\n",
       "      <td>0</td>\n",
       "      <td>30.27259</td>\n",
       "      <td>8.0500</td>\n",
       "    </tr>\n",
       "    <tr>\n",
       "      <th>417</th>\n",
       "      <td>0</td>\n",
       "      <td>3</td>\n",
       "      <td>0</td>\n",
       "      <td>30.27259</td>\n",
       "      <td>22.3583</td>\n",
       "    </tr>\n",
       "  </tbody>\n",
       "</table>\n",
       "</div>"
      ]
     },
     "execution_count": 419,
     "metadata": {},
     "output_type": "execute_result"
    }
   ],
   "execution_count": 419
  },
  {
   "metadata": {},
   "cell_type": "markdown",
   "source": "14. Аналіз виживання залежно від статі: Обчисліть відсоток виживання для кожної статі. Чи була різниця у виживанні між чоловіками та жінками?",
   "id": "e873cd3673b36497"
  },
  {
   "metadata": {
    "ExecuteTime": {
     "end_time": "2024-08-18T16:02:55.133545Z",
     "start_time": "2024-08-18T16:02:55.126480Z"
    }
   },
   "cell_type": "code",
   "source": [
    "survival_by_sex = selected_titanic.groupby('Sex')['Survived'].mean() * 100\n",
    "survival_by_sex"
   ],
   "id": "d07018970bd084d4",
   "outputs": [
    {
     "data": {
      "text/plain": [
       "Sex\n",
       "0      0.0\n",
       "1    100.0\n",
       "Name: Survived, dtype: float64"
      ]
     },
     "execution_count": 421,
     "metadata": {},
     "output_type": "execute_result"
    }
   ],
   "execution_count": 421
  },
  {
   "metadata": {},
   "cell_type": "markdown",
   "source": "15. Обчисліть відсоток виживання для кожного класу (Pclass). Який клас мав найвищий рівень виживання (дати відповідь)?",
   "id": "5dec3b27c5b5968c"
  },
  {
   "metadata": {
    "ExecuteTime": {
     "end_time": "2024-08-18T16:08:14.163173Z",
     "start_time": "2024-08-18T16:08:14.155873Z"
    }
   },
   "cell_type": "code",
   "source": [
    "survival_by_class = selected_titanic.groupby('Pclass')['Survived'].mean() * 100\n",
    "survival_by_class"
   ],
   "id": "df0f98b5d50bd56e",
   "outputs": [
    {
     "data": {
      "text/plain": [
       "Pclass\n",
       "1    46.728972\n",
       "2    32.258065\n",
       "3    33.027523\n",
       "Name: Survived, dtype: float64"
      ]
     },
     "execution_count": 422,
     "metadata": {},
     "output_type": "execute_result"
    }
   ],
   "execution_count": 422
  },
  {
   "metadata": {},
   "cell_type": "markdown",
   "source": "16. Визначте середній вік тих, хто вижив, і тих, хто не вижив. Чи впливає вік на виживання (дати відповідь)?",
   "id": "9c30c28d98b73ddb"
  },
  {
   "metadata": {
    "ExecuteTime": {
     "end_time": "2024-08-18T16:09:32.612923Z",
     "start_time": "2024-08-18T16:09:32.606475Z"
    }
   },
   "cell_type": "code",
   "source": [
    "mean_age_by_survival = selected_titanic.groupby('Survived')['Age'].mean()\n",
    "mean_age_by_survival"
   ],
   "id": "f32b23122171e483",
   "outputs": [
    {
     "data": {
      "text/plain": [
       "Survived\n",
       "0    30.272699\n",
       "1    30.272400\n",
       "Name: Age, dtype: float64"
      ]
     },
     "execution_count": 423,
     "metadata": {},
     "output_type": "execute_result"
    }
   ],
   "execution_count": 423
  },
  {
   "metadata": {},
   "cell_type": "markdown",
   "source": "17. Розподіліть пасажирів на групи за рівнями тарифів (Fare) і обчисліть рівень виживання для кожної групи. Як тариф впливав на шанси виживання (дати відповідь)?",
   "id": "6528c4e1d38b8d6e"
  },
  {
   "metadata": {
    "ExecuteTime": {
     "end_time": "2024-08-18T16:13:16.900328Z",
     "start_time": "2024-08-18T16:13:16.889859Z"
    }
   },
   "cell_type": "code",
   "source": [
    "selected_titanic['Fare_Group'] = pd.qcut(selected_titanic['Fare'], 4, labels=False)\n",
    "survival_by_fare_group = selected_titanic.groupby('Fare_Group')['Survived'].mean() * 100\n",
    "survival_by_fare_group"
   ],
   "id": "1c7b744ae8e357d7",
   "outputs": [
    {
     "name": "stderr",
     "output_type": "stream",
     "text": [
      "C:\\Users\\Иван\\AppData\\Local\\Temp\\ipykernel_20016\\2195193079.py:1: SettingWithCopyWarning: \n",
      "A value is trying to be set on a copy of a slice from a DataFrame.\n",
      "Try using .loc[row_indexer,col_indexer] = value instead\n",
      "\n",
      "See the caveats in the documentation: https://pandas.pydata.org/pandas-docs/stable/user_guide/indexing.html#returning-a-view-versus-a-copy\n",
      "  selected_titanic['Fare_Group'] = pd.qcut(selected_titanic['Fare'], 4, labels=False)\n"
     ]
    },
    {
     "data": {
      "text/plain": [
       "Fare_Group\n",
       "0    26.315789\n",
       "1    27.083333\n",
       "2    39.047619\n",
       "3    53.398058\n",
       "Name: Survived, dtype: float64"
      ]
     },
     "execution_count": 425,
     "metadata": {},
     "output_type": "execute_result"
    }
   ],
   "execution_count": 425
  },
  {
   "metadata": {},
   "cell_type": "markdown",
   "source": [
    "18. Аналіз класу та тарифу: Визначте середній тариф (Fare) для кожного\n",
    "класу (Pclass). Чи існує значна різниця у тарифах між класами (дати\n",
    "відповідь)?\n"
   ],
   "id": "a739c6901f3ea628"
  },
  {
   "metadata": {
    "ExecuteTime": {
     "end_time": "2024-08-18T16:14:33.605280Z",
     "start_time": "2024-08-18T16:14:33.597200Z"
    }
   },
   "cell_type": "code",
   "source": [
    "mean_fare_by_class = selected_titanic.groupby('Pclass')['Fare'].mean()\n",
    "mean_fare_by_class"
   ],
   "id": "b3c3dc8df3ffae30",
   "outputs": [
    {
     "data": {
      "text/plain": [
       "Pclass\n",
       "1    94.280297\n",
       "2    22.202104\n",
       "3    12.565951\n",
       "Name: Fare, dtype: float64"
      ]
     },
     "execution_count": 426,
     "metadata": {},
     "output_type": "execute_result"
    }
   ],
   "execution_count": 426
  },
  {
   "metadata": {},
   "cell_type": "markdown",
   "source": [
    "19. Обчисліть середній вік пасажирів для кожного класу (Pclass). Як вік\n",
    "пасажирів розподіляється за класами (дати відповідь)?"
   ],
   "id": "b35dd74ef7100bf1"
  },
  {
   "metadata": {
    "ExecuteTime": {
     "end_time": "2024-08-18T16:15:15.359971Z",
     "start_time": "2024-08-18T16:15:15.353122Z"
    }
   },
   "cell_type": "code",
   "source": [
    "mean_age_by_class = selected_titanic.groupby('Pclass')['Age'].mean()\n",
    "mean_age_by_class"
   ],
   "id": "76b81f38253dc9d8",
   "outputs": [
    {
     "data": {
      "text/plain": [
       "Pclass\n",
       "1    40.022928\n",
       "2    28.857881\n",
       "3    26.090397\n",
       "Name: Age, dtype: float64"
      ]
     },
     "execution_count": 427,
     "metadata": {},
     "output_type": "execute_result"
    }
   ],
   "execution_count": 427
  },
  {
   "metadata": {},
   "cell_type": "markdown",
   "source": [
    "20. Побудуйте гістограму розподілу віку для тих, хто вижив, і тих, хто\n",
    "не вижив. Чи є видимі відмінності у вікових групах (дати\n",
    "відповідь)?\n"
   ],
   "id": "5220be3808892a65"
  },
  {
   "metadata": {
    "ExecuteTime": {
     "end_time": "2024-08-18T16:19:34.569180Z",
     "start_time": "2024-08-18T16:19:34.377887Z"
    }
   },
   "cell_type": "code",
   "source": [
    "plt.figure(figsize=(10, 6))\n",
    "sns.histplot(selected_titanic[selected_titanic['Survived'] == 1]['Age'], bins=20, kde=False, color='green', label='Survived', alpha=0.6)\n",
    "sns.histplot(selected_titanic[selected_titanic['Survived'] == 0]['Age'], bins=20, kde=False, color='red', label='Not Survived', alpha=0.6)\n",
    "\n",
    "plt.title('Age Distribution of Survived and Not Survived Passengers', fontsize=16)\n",
    "plt.xlabel('Age', fontsize=14)\n",
    "plt.ylabel('Frequency', fontsize=14)\n",
    "plt.legend()\n",
    "plt.show()"
   ],
   "id": "a386a3f5b7df13b6",
   "outputs": [
    {
     "data": {
      "text/plain": [
       "<Figure size 1000x600 with 1 Axes>"
      ],
      "image/png": "[encoded data removed]"
     },
     "metadata": {},
     "output_type": "display_data"
    }
   ],
   "execution_count": 430
  },
  {
   "metadata": {},
   "cell_type": "markdown",
   "source": [
    "21. Обчисліть відсоток виживання для кожної комбінації статі та класу\n",
    "(наприклад, жінки в 1-му класі, чоловіки в 3-му класі). Яка група\n",
    "мала найвищий рівень виживання (дати відповідь)?"
   ],
   "id": "222d8859497ed544"
  },
  {
   "metadata": {
    "ExecuteTime": {
     "end_time": "2024-08-18T16:26:40.643506Z",
     "start_time": "2024-08-18T16:26:40.630851Z"
    }
   },
   "cell_type": "code",
   "source": [
    "survival_rate = selected_titanic.groupby(['Sex', 'Pclass'])['Survived'].mean() * 100\n",
    "survival_rate_df = survival_rate.reset_index()\n",
    "survival_rate_df.rename(columns={'Survived': 'Survival_rate (%)'}, inplace=True)\n",
    "\n",
    "survival_rate_df"
   ],
   "id": "ae952772817461d7",
   "outputs": [
    {
     "data": {
      "text/plain": [
       "   Sex  Pclass  Survival_rate (%)\n",
       "0    0       1                0.0\n",
       "1    0       2                0.0\n",
       "2    0       3                0.0\n",
       "3    1       1              100.0\n",
       "4    1       2              100.0\n",
       "5    1       3              100.0"
      ],
      "text/html": [
       "<div>\n",
       "<style scoped>\n",
       "    .dataframe tbody tr th:only-of-type {\n",
       "        vertical-align: middle;\n",
       "    }\n",
       "\n",
       "    .dataframe tbody tr th {\n",
       "        vertical-align: top;\n",
       "    }\n",
       "\n",
       "    .dataframe thead th {\n",
       "        text-align: right;\n",
       "    }\n",
       "</style>\n",
       "<table border=\"1\" class=\"dataframe\">\n",
       "  <thead>\n",
       "    <tr style=\"text-align: right;\">\n",
       "      <th></th>\n",
       "      <th>Sex</th>\n",
       "      <th>Pclass</th>\n",
       "      <th>Survival_rate (%)</th>\n",
       "    </tr>\n",
       "  </thead>\n",
       "  <tbody>\n",
       "    <tr>\n",
       "      <th>0</th>\n",
       "      <td>0</td>\n",
       "      <td>1</td>\n",
       "      <td>0.0</td>\n",
       "    </tr>\n",
       "    <tr>\n",
       "      <th>1</th>\n",
       "      <td>0</td>\n",
       "      <td>2</td>\n",
       "      <td>0.0</td>\n",
       "    </tr>\n",
       "    <tr>\n",
       "      <th>2</th>\n",
       "      <td>0</td>\n",
       "      <td>3</td>\n",
       "      <td>0.0</td>\n",
       "    </tr>\n",
       "    <tr>\n",
       "      <th>3</th>\n",
       "      <td>1</td>\n",
       "      <td>1</td>\n",
       "      <td>100.0</td>\n",
       "    </tr>\n",
       "    <tr>\n",
       "      <th>4</th>\n",
       "      <td>1</td>\n",
       "      <td>2</td>\n",
       "      <td>100.0</td>\n",
       "    </tr>\n",
       "    <tr>\n",
       "      <th>5</th>\n",
       "      <td>1</td>\n",
       "      <td>3</td>\n",
       "      <td>100.0</td>\n",
       "    </tr>\n",
       "  </tbody>\n",
       "</table>\n",
       "</div>"
      ]
     },
     "execution_count": 433,
     "metadata": {},
     "output_type": "execute_result"
    }
   ],
   "execution_count": 433
  },
  {
   "metadata": {},
   "cell_type": "markdown",
   "source": [
    "22. Обчисліть кореляцію між усіма числовими змінними (Survived,\n",
    "Pclass, Age, Fare). Які змінні найбільш сильно корелюють з\n",
    "виживанням (дати відповідь)?"
   ],
   "id": "9d1a47bb09799f8d"
  },
  {
   "metadata": {
    "ExecuteTime": {
     "end_time": "2024-08-18T16:29:20.663774Z",
     "start_time": "2024-08-18T16:29:20.652886Z"
    }
   },
   "cell_type": "code",
   "source": [
    "corr = selected_titanic[['Survived', 'Pclass',  'Age', 'Fare']].corr()\n",
    "corr"
   ],
   "id": "3bd8efd9ffc3cc6e",
   "outputs": [
    {
     "data": {
      "text/plain": [
       "          Survived    Pclass       Age      Fare\n",
       "Survived  1.000000 -0.108615 -0.000011  0.191382\n",
       "Pclass   -0.108615  1.000000 -0.440782 -0.576619\n",
       "Age      -0.000011 -0.440782  1.000000  0.326800\n",
       "Fare      0.191382 -0.576619  0.326800  1.000000"
      ],
      "text/html": [
       "<div>\n",
       "<style scoped>\n",
       "    .dataframe tbody tr th:only-of-type {\n",
       "        vertical-align: middle;\n",
       "    }\n",
       "\n",
       "    .dataframe tbody tr th {\n",
       "        vertical-align: top;\n",
       "    }\n",
       "\n",
       "    .dataframe thead th {\n",
       "        text-align: right;\n",
       "    }\n",
       "</style>\n",
       "<table border=\"1\" class=\"dataframe\">\n",
       "  <thead>\n",
       "    <tr style=\"text-align: right;\">\n",
       "      <th></th>\n",
       "      <th>Survived</th>\n",
       "      <th>Pclass</th>\n",
       "      <th>Age</th>\n",
       "      <th>Fare</th>\n",
       "    </tr>\n",
       "  </thead>\n",
       "  <tbody>\n",
       "    <tr>\n",
       "      <th>Survived</th>\n",
       "      <td>1.000000</td>\n",
       "      <td>-0.108615</td>\n",
       "      <td>-0.000011</td>\n",
       "      <td>0.191382</td>\n",
       "    </tr>\n",
       "    <tr>\n",
       "      <th>Pclass</th>\n",
       "      <td>-0.108615</td>\n",
       "      <td>1.000000</td>\n",
       "      <td>-0.440782</td>\n",
       "      <td>-0.576619</td>\n",
       "    </tr>\n",
       "    <tr>\n",
       "      <th>Age</th>\n",
       "      <td>-0.000011</td>\n",
       "      <td>-0.440782</td>\n",
       "      <td>1.000000</td>\n",
       "      <td>0.326800</td>\n",
       "    </tr>\n",
       "    <tr>\n",
       "      <th>Fare</th>\n",
       "      <td>0.191382</td>\n",
       "      <td>-0.576619</td>\n",
       "      <td>0.326800</td>\n",
       "      <td>1.000000</td>\n",
       "    </tr>\n",
       "  </tbody>\n",
       "</table>\n",
       "</div>"
      ]
     },
     "execution_count": 434,
     "metadata": {},
     "output_type": "execute_result"
    }
   ],
   "execution_count": 434
  }
 ],
 "metadata": {
  "kernelspec": {
   "display_name": "Python 3",
   "language": "python",
   "name": "python3"
  },
  "language_info": {
   "codemirror_mode": {
    "name": "ipython",
    "version": 2
   },
   "file_extension": ".py",
   "mimetype": "text/x-python",
   "name": "python",
   "nbconvert_exporter": "python",
   "pygments_lexer": "ipython2",
   "version": "2.7.6"
  }
 },
 "nbformat": 4,
 "nbformat_minor": 5
}
